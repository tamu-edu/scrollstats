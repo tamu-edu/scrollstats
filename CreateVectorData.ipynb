{
 "cells": [
  {
   "cell_type": "markdown",
   "metadata": {},
   "source": [
    "# Create Vector Data"
   ]
  },
  {
   "cell_type": "markdown",
   "metadata": {},
   "source": [
    "ScrollStats uses the following vector datasets for every bend in order to calculate ridge metrics:\n",
    "- Channel Centerline (LineString)\n",
    "- Bend Boundary (Polygon)\n",
    "- Packet Boundaries (Polygon)\n",
    "- Ridges (LineString)\n",
    "- Migration Pathways (LineString)\n",
    "\n",
    "While all of these datasets are used, not all are strictly necesarry, not all are required at the beginning of the workflow, and some are generated from ScrollStats. \n",
    "\n",
    "This is summarized below:\n",
    "\n",
    "**Required for Raster Processing**:\n",
    "- Bend Boundary: the bend boundary is a required input from the user and is required for the raster processing. The bend boundary is the manual delineation of the topographically rasied platform that conatians the ridge and swale topography of a bend.\n",
    "\n",
    "**Required for Migration Pathway Creation**\n",
    "- Channel Centerline: the channel centerline generally follows the path of the water surface and should not intersect the bend boundary at all. The channel centerline should also extend past the channel-ward edges of the bend boundary. *See note at the end of this cell on point density for channel centerline and ridge lines.*\n",
    "\n",
    "- Ridges: ridges are manually created and should track the middle of each ridge area. While it is not necesarry, it's strongly reccommended that both the DEM and ridge area raster be used to infer ridge line locations. *See note at the end of this cell on point density for channel centerline and ridge lines.*\n",
    "\n",
    "**Used for ridge metric calculation**\n",
    "- Migration Pathways: migration pathways are created by ScrollStats, so the user does not need to worry about creating these as an input. Migration pathways are a series of transects that trace the supposed path of channel migration from the channel centerline. Migration pathways are used to sample both the DEM and ridge area raster to calculate ridge width, amplitude, and spacing for every point intersection of the migration pathways and ridge lines.\n",
    "\n",
    "- Packet Boundaries (optional): packet boundaries are the manual delineations of the depositional packets within a bend that contain groups of ridges with similar trajectorties. Packet boundaries fit perfectly within and cover entirely the bend boundary. Providing packet boundaries gives allows the user to aggregate ridge metrics to the packet scale in order to investigate changes in the hydrologic regime of the river.\n",
    "\n",
    "**Note on point density for channel centerline and ridgelines**\n",
    "\n",
    "A high vertex density and high degree of \"smoothness\" are necesarry for both the channel centerline and ridge lines when creating the migration pathways. It is reccommended that you focus on capturing the overall ridge form, not point density, when delineating. Then, the coarse polylines can be densified and smoothed with the included [line_smoother.py](scrollstats/delineation/line_smoother.py) script. \n"
   ]
  },
  {
   "cell_type": "code",
   "execution_count": null,
   "metadata": {},
   "outputs": [],
   "source": [
    "from scrollstats import LineSmoother\n",
    "import geopandas as gpd\n",
    "from pathlib import Path\n",
    "import matplotlib.pyplot as plt\n",
    "import numpy as np\n",
    "\n",
    "from parameters import SMOOTHING_WINDOW_SIZE, VERTEX_SPACING, SHOOT_DISTANCE, SEARCH_DISTANCE, DEV_FROM_90\n",
    "from scrollstats import create_transects"
   ]
  },
  {
   "cell_type": "markdown",
   "metadata": {},
   "source": [
    "## Create Bend Boundaries\n",
    "\n",
    "Use a desktop GIS software (QGIS, ArcGIS Pro, etc.) to manually delineate the bend boundaries.\n",
    "\n",
    "If there multiple bends delineated for the same river, it is reccommended to make 1 layer for the entire river and just add each bend as a feature (row) for that layer. Additionally, each bend should have a short, unique ID that is shared with the DEMs. For example, the 25th bend along the Lower Brazos River (starting from Waco TX) is given the ID `LBR_025`.\n",
    "\n",
    "At this stage, it is reccommended to create the optional packet boundaries as well. Similarly to the bend boundaries, it is reccommended to make one layer for all the packets in the river and just add each packet as a feature (row). Add a \"bend_id\" column and a \"packet_id\" column. The bend id should correspond to the bend_id of the encompassing boundary and it is reccommended to have use a simple incrementing packet id that corresponds to the apparent evolution of the bend. For example, the most ancestral packet of `LBR_025` has the packet_id of `p_01` and the most recent, channelward packet has a packet_id of `p_04`. The combination of the bend_id and packet_id column forms the primary key for the packets. \n",
    "\n",
    "Example bend and packet boundaries can be found in the [example_data](example_data) directory. These boundaries are mapped below."
   ]
  },
  {
   "cell_type": "code",
   "execution_count": null,
   "metadata": {},
   "outputs": [],
   "source": [
    "bend_area = gpd.read_file(\"example_data/input/LBR_025_bend.geojson\").set_index(\"bend_id\")\n",
    "packets = gpd.read_file(\"example_data/input/LBR_025_packets.geojson\").set_index(\"packet_id\")\n",
    "\n",
    "fig, ax = plt.subplots(1,1, figsize=(10, 6))\n",
    "\n",
    "packets.boundary.plot(color=\"grey\", ax=ax, label=\"Packet Boundaries\")\n",
    "packets.plot(color=\"grey\", alpha=0.5, ax=ax)\n",
    "bend_area.boundary.plot(color=\"k\", lw=3, ax=ax, label=\"Bend Boundary\")\n",
    "\n",
    "ax.legend(loc=\"upper left\")\n",
    "ax.set_axis_off()"
   ]
  },
  {
   "cell_type": "markdown",
   "metadata": {},
   "source": [
    "## Create Channel Centerline and Ridgelines\n",
    "After the ridge area rasters are created, manually create the ridge lines and channel centerlines.\n",
    "\n",
    "Example centerline and ridgelines can be found in the [example_data](example_data) directory. The centerline and ridgelines are mapped below."
   ]
  },
  {
   "cell_type": "code",
   "execution_count": null,
   "metadata": {},
   "outputs": [],
   "source": [
    "ridge_path = Path(\"example_data/input/LBR_025_ridges_manual.geojson\")\n",
    "manual_ridges = gpd.read_file(ridge_path)\n",
    "\n",
    "# Centerline is already smoothed and densified\n",
    "cl_path = Path(\"example_data/input/LBR_025_cl.geojson\")\n",
    "cl = gpd.read_file(cl_path)"
   ]
  },
  {
   "cell_type": "code",
   "execution_count": null,
   "metadata": {},
   "outputs": [],
   "source": [
    "fig, ax = plt.subplots(1,1, figsize=(10, 6))\n",
    "\n",
    "manual_ridges.plot(color=\"k\", ls=\":\", ax=ax, label=\"Ridges (Manual)\")\n",
    "cl.plot(color=\"k\", lw=2, ax=ax, label=\"Centerline\")\n",
    "\n",
    "ax.legend(loc=\"upper left\")\n",
    "ax.set_axis_off()"
   ]
  },
  {
   "cell_type": "markdown",
   "metadata": {},
   "source": [
    "### Line Smoothing\n",
    "\n",
    "Apply `LineSmoother` to smooth and densify the lines"
   ]
  },
  {
   "cell_type": "code",
   "execution_count": null,
   "metadata": {},
   "outputs": [],
   "source": [
    "window = SMOOTHING_WINDOW_SIZE\n",
    "spacing = VERTEX_SPACING\n",
    "\n",
    "# Smooth and densify the lines\n",
    "ls = LineSmoother(manual_ridges, spacing, window)\n",
    "smooth_ridges = ls.execute()\n",
    "\n",
    "# Save smooth ridges to disk\n",
    "output_dir = Path(\"example_data/output\")\n",
    "smooth_ridge_name = ridge_path.with_stem(ridge_path.stem + \"_smoothed\").name\n",
    "smooth_ridge_path = output_dir / smooth_ridge_name\n",
    "\n",
    "smooth_ridges.to_file(smooth_ridge_path, driver=\"GeoJSON\", index=False)\n",
    "\n",
    "# Plot manual and smoothed lines for comparison\n",
    "m = manual_ridges.explore(color=\"black\", style_kwds={\"weight\":5})\n",
    "smooth_ridges.explore(color=\"red\", m=m)"
   ]
  },
  {
   "cell_type": "markdown",
   "metadata": {},
   "source": [
    "## Create Migration Pathways\n",
    "\n",
    "Now that the ridges and centerlines are created, we can create the migration pathways\n",
    "\n",
    "A migration pathway can be created from any point along the centerline. Below we will create an array of starting points each roughly a channel-width apart (~100m for the Lower Brazos). \n",
    "\n",
    "You can also create a set number of starting points by defining your `step` distance as the channel length divided by the number of evenly spaced transects. "
   ]
  },
  {
   "cell_type": "code",
   "execution_count": null,
   "metadata": {},
   "outputs": [],
   "source": [
    "# define the distance between transects \n",
    "step = 100\n",
    "\n",
    "# With a vertex spacing of ~1m, take every `step`th vertex along the centerline\n",
    "starts = np.asarray(cl.geometry[0].xy).T[::step]"
   ]
  },
  {
   "cell_type": "markdown",
   "metadata": {},
   "source": [
    "### Migration Pathway Algorithm\n",
    "Our process involves ten major steps as follows:\n",
    "1.\tLet the channel centerline be called R1\n",
    "2.\tSelect a starting point on R1, let this point be called P1\n",
    "3.\tFrom P1, shoot a given distance perpendicular from R1 in the direction of the convex bank.\n",
    "4.\tIf the line intersects a ridge line, call this ridge R2 and proceed to step 5. If not, move on to the next location on R1 and repeat step 2.\n",
    "5.\tWhere this new line intersects R2, make a new point and call it N1\n",
    "6.\tBuffer N1 by a given radius and search all vertices of R2 that intersect this buffer for a point from which a line may be drawn back to P1 that is perpendicular to R2. Call this new point on R2, N2.\n",
    "7.\tTreating the lines P1->N1 and P1->N2 as vectors, calculate their vertical resultant and place a new point at the end of this vertical resultant. Let this point be called VR. \n",
    "8.\tWhere the line P1->VR intersects R2, place a point and let this point be called P2. Line P1->P2 is the migration pathway for this location on the floodplain. \n",
    "9.\tRedefine P2 as P1\n",
    "10.\tRepeat steps 3-9 until the perpendicular shot from P1 fails to intersect any ridges.\n",
    "\n",
    "![Alt text](image.png)"
   ]
  },
  {
   "cell_type": "code",
   "execution_count": null,
   "metadata": {},
   "outputs": [],
   "source": [
    "# Transect Parameters\n",
    "shoot_distance = SHOOT_DISTANCE       # Distance that the N1 coordinate will shoot out from point P1; easured in linear unit of dataset\n",
    "search_distance = SEARCH_DISTANCE     # Buffer radius used to search for an N2 coordinate on R2; measured in linear unit of dataset\n",
    "dev_from_90 = DEV_FROM_90             # Max angular deviation from 90° allowed when searching for an N2 coordinate on R2; measured in degrees\n",
    "\n",
    "transects = create_transects(cl, smooth_ridges, step, shoot_distance, search_distance, dev_from_90)\n",
    "\n",
    "# Save transects to disk\n",
    "transect_path = output_dir / \"LBR_025_transects.geojson\"\n",
    "transects.to_file(transect_path, dirver=\"GeoJSON\", index=True)"
   ]
  },
  {
   "cell_type": "code",
   "execution_count": null,
   "metadata": {},
   "outputs": [],
   "source": [
    "# Plot migration pathways alongside ridges and centerlines \n",
    "fig, ax = plt.subplots(1, 1, figsize=(10, 6))\n",
    "\n",
    "cl.plot(color=\"k\", lw=2, ax=ax, label=\"Centerline\")\n",
    "smooth_ridges.plot(color=\"k\", ls=\":\", ax=ax, label=\"Ridges\")\n",
    "transects.plot(color=\"r\", ax=ax, label=\"Migration Pathways\")\n",
    "plt.scatter(starts[:, ::2], starts[:, 1::2], color=\"r\")\n",
    "\n",
    "ax.legend()\n",
    "ax.set_axis_off()"
   ]
  },
  {
   "cell_type": "markdown",
   "metadata": {},
   "source": [
    "## Move on to CalculateRidgeMetrics.ipynb\n",
    "- All of the required datasets for ridge metric calculation have now been created. \n",
    "- Open the notebook `CalculateRidgeMetrics.ipynb` to calculate ridge metrics."
   ]
  }
 ],
 "metadata": {
  "kernelspec": {
   "display_name": "scroll",
   "language": "python",
   "name": "python3"
  },
  "language_info": {
   "codemirror_mode": {
    "name": "ipython",
    "version": 3
   },
   "file_extension": ".py",
   "mimetype": "text/x-python",
   "name": "python",
   "nbconvert_exporter": "python",
   "pygments_lexer": "ipython3",
   "version": "3.10.12"
  },
  "orig_nbformat": 4
 },
 "nbformat": 4,
 "nbformat_minor": 2
}
