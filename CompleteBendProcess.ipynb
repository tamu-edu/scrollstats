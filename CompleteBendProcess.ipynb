{
 "cells": [
  {
   "cell_type": "markdown",
   "metadata": {},
   "source": [
    "# Complete Bend Process\n",
    "\n",
    "This notebook contains the entire process for creating intersection-scale ridge measurements (ridge amplitude, width, and spacing) from the required input data (dem, manual ridge lines, packets, bend area, centerline). This process is the same process that has been split up across the other 3 notebooks, but without the context and explanation in markdown cells.\n"
   ]
  },
  {
   "cell_type": "code",
   "execution_count": null,
   "metadata": {},
   "outputs": [],
   "source": [
    "from pathlib import Path\n",
    "\n",
    "import numpy as np\n",
    "import geopandas as gpd\n",
    "import rasterio\n",
    "import matplotlib.pyplot as plt\n",
    "\n",
    "from parameters import RASTER_WINDOW_SIZE, SMOOTHING_WINDOW_SIZE, SMALL_FEATS_SIZE, ELONGATION_THRESHOLD, VERTEX_SPACING, SHOOT_DISTANCE, SEARCH_DISTANCE, DEV_FROM_90\n",
    "from scrollstats import CalcProfileCurvature, CalcResidualTopography, BinaryClassifier, RasterAgreementAssessor, RasterClipper, RasterDenoiser, LineSmoother, create_transects, calculate_ridge_metrics"
   ]
  },
  {
   "cell_type": "code",
   "execution_count": null,
   "metadata": {},
   "outputs": [],
   "source": [
    "# Bend ID\n",
    "bend_id = \"LBR_025\"\n",
    "\n",
    "# Output Directory\n",
    "output_dir = Path(\"example_data/output\")\n",
    "\n",
    "# Raster Paths\n",
    "dem_path = Path(f\"example_data/input/{bend_id}_dem.tif\")\n",
    "profc_path = Path(f\"example_data/output/{bend_id}_dem_profc{RASTER_WINDOW_SIZE}px.tif\")\n",
    "\n",
    "# Vector Paths\n",
    "bend_path = Path(f\"example_data/input/{bend_id}_bend.geojson\")\n",
    "packet_path = Path(f\"example_data/input/{bend_id}_packets.geojson\")\n",
    "centerline_path = Path(f\"example_data/input/{bend_id}_cl.geojson\")\n",
    "manual_ridge_path = Path(f\"example_data/input/{bend_id}_ridges_manual.geojson\")\n",
    "\n",
    "\n",
    "# Print constants from parameters.py\n",
    "print(f\"{RASTER_WINDOW_SIZE=}\")\n",
    "print(f\"{SMOOTHING_WINDOW_SIZE=}\")\n",
    "print(f\"{SMALL_FEATS_SIZE=}\")\n",
    "print(f\"{ELONGATION_THRESHOLD=}\")\n",
    "print(f\"{VERTEX_SPACING=}\")\n",
    "print(f\"{SHOOT_DISTANCE=}\")\n",
    "print(f\"{SEARCH_DISTANCE=}\")\n",
    "print(f\"{DEV_FROM_90=}\")\n"
   ]
  },
  {
   "cell_type": "markdown",
   "metadata": {},
   "source": [
    "# Delineate Rasters"
   ]
  },
  {
   "cell_type": "code",
   "execution_count": null,
   "metadata": {},
   "outputs": [],
   "source": [
    "profc = CalcProfileCurvature(dem_path, RASTER_WINDOW_SIZE, output_dir)\n",
    "profc_path = profc.execute()\n",
    "\n",
    "print(f\"Profile Curvature raster saved to {profc_path}\")"
   ]
  },
  {
   "cell_type": "code",
   "execution_count": null,
   "metadata": {},
   "outputs": [],
   "source": [
    "rt = CalcResidualTopography(dem_path, RASTER_WINDOW_SIZE, output_dir)\n",
    "rt_path = rt.execute()"
   ]
  },
  {
   "cell_type": "code",
   "execution_count": null,
   "metadata": {},
   "outputs": [],
   "source": [
    "raster_paths = [profc_path, rt_path]\n",
    "binclass_paths = []\n",
    "for path in raster_paths:\n",
    "    bc = BinaryClassifier(path, 0, output_dir)\n",
    "    binclass_path = bc.execute()\n",
    "    binclass_paths.append(binclass_path)"
   ]
  },
  {
   "cell_type": "code",
   "execution_count": null,
   "metadata": {},
   "outputs": [],
   "source": [
    "# Set parameters\n",
    "profc_binclass_path, rt_binclass_path = binclass_paths\n",
    "\n",
    "ra = RasterAgreementAssessor(profc_binclass_path, rt_binclass_path, bend_id, output_dir)\n",
    "agreement_path = ra.execute()"
   ]
  },
  {
   "cell_type": "code",
   "execution_count": null,
   "metadata": {},
   "outputs": [],
   "source": [
    "bend = gpd.GeoDataFrame.from_file(bend_path)\n",
    "\n",
    "to_clip_paths = [dem_path, agreement_path]\n",
    "\n",
    "clip_paths = []\n",
    "for path in to_clip_paths:\n",
    "\n",
    "    geom = bend[\"geometry\"][0] # RasterClipper requires a shapely polygon, not geodataframe\n",
    "\n",
    "    rc = RasterClipper(path, geom, output_dir)\n",
    "    clip_path = rc.execute()\n",
    "    \n",
    "    clip_paths.append(clip_path)\n",
    "\n",
    "dem_clip_path, agreement_clip_path = clip_paths"
   ]
  },
  {
   "cell_type": "code",
   "execution_count": null,
   "metadata": {},
   "outputs": [],
   "source": [
    "# Denoise Agreement Raster\n",
    "dn = RasterDenoiser(agreement_clip_path, SMALL_FEATS_SIZE, ELONGATION_THRESHOLD, output_dir)\n",
    "denoise_path = dn.execute()"
   ]
  },
  {
   "cell_type": "code",
   "execution_count": null,
   "metadata": {},
   "outputs": [],
   "source": [
    "# Plot denoising results\n",
    "agr = rasterio.open(agreement_clip_path).read(1)\n",
    "denoise = rasterio.open(denoise_path).read(1)\n",
    "\n",
    "fig, (ax1, ax2) = plt.subplots(1, 2, figsize=(10, 6))\n",
    "\n",
    "mapper = ax1.imshow(agr)\n",
    "ax1.set_axis_off()\n",
    "ax1.set_title(\"Agreement\")\n",
    "\n",
    "mapper = ax2.imshow(denoise)\n",
    "ax2.set_axis_off()\n",
    "ax2.set_title(\"Denoised\");"
   ]
  },
  {
   "cell_type": "markdown",
   "metadata": {},
   "source": [
    "# Create Vector Datasets"
   ]
  },
  {
   "cell_type": "code",
   "execution_count": null,
   "metadata": {},
   "outputs": [],
   "source": [
    "manual_ridges = gpd.read_file(manual_ridge_path)\n",
    "cl = gpd.read_file(centerline_path)\n",
    "packets = gpd.read_file(packet_path).set_index(\"packet_id\")"
   ]
  },
  {
   "cell_type": "code",
   "execution_count": null,
   "metadata": {},
   "outputs": [],
   "source": [
    "# Smooth and densify the lines\n",
    "ls = LineSmoother(manual_ridges, VERTEX_SPACING, SMOOTHING_WINDOW_SIZE)\n",
    "smooth_ridges = ls.execute()\n",
    "\n",
    "# Save smooth ridges to disk\n",
    "output_dir = Path(\"example_data/output\")\n",
    "smooth_ridge_name = manual_ridge_path.with_stem(manual_ridge_path.stem + \"_smoothed\").name\n",
    "smooth_ridge_path = output_dir / smooth_ridge_name\n",
    "\n",
    "smooth_ridges.to_file(smooth_ridge_path, driver=\"GeoJSON\", index=False)\n",
    "\n",
    "# Plot manual and smoothed lines for comparison\n",
    "m = manual_ridges.explore(color=\"black\", style_kwds={\"weight\":5})\n",
    "smooth_ridges.explore(color=\"red\", m=m)"
   ]
  },
  {
   "cell_type": "code",
   "execution_count": null,
   "metadata": {},
   "outputs": [],
   "source": [
    "# define the distance between transects \n",
    "step = 100\n",
    "\n",
    "# With a vertex spacing of ~1m, take every `step`th vertex along the centerline\n",
    "starts = np.asarray(cl.geometry[0].xy).T[::step]\n",
    "\n",
    "# Transect Parameters\n",
    "shoot_distance = SHOOT_DISTANCE       # Distance that the N1 coordinate will shoot out from point P1; measured in linear unit of dataset\n",
    "search_distance = SEARCH_DISTANCE     # Buffer radius used to search for an N2 coordinate on R2; measured in linear unit of dataset\n",
    "dev_from_90 = DEV_FROM_90             # Max angular deviation from 90° allowed when searching for an N2 coordinate on R2; measured in degrees\n",
    "\n",
    "transects = create_transects(cl, smooth_ridges, step, shoot_distance, search_distance, dev_from_90)\n",
    "\n",
    "# Save transects to disk\n",
    "transect_path = output_dir / f\"{bend_id}_transects.geojson\"\n",
    "transects.to_file(transect_path, driver=\"GeoJSON\", index=True)"
   ]
  },
  {
   "cell_type": "markdown",
   "metadata": {},
   "source": [
    "# Calculate Ridge Metrics"
   ]
  },
  {
   "cell_type": "code",
   "execution_count": null,
   "metadata": {},
   "outputs": [],
   "source": [
    "# Vector Data\n",
    "ridges = gpd.read_file(smooth_ridge_path)\n",
    "transects = gpd.read_file(transect_path)\n",
    "packets = gpd.read_file(packet_path)\n",
    "cl = gpd.read_file(centerline_path)\n",
    "\n",
    "# Raster Data\n",
    "bin_raster = rasterio.open(agreement_clip_path)\n",
    "dem = rasterio.open(dem_clip_path)"
   ]
  },
  {
   "cell_type": "code",
   "execution_count": null,
   "metadata": {},
   "outputs": [],
   "source": [
    "rich_transects, itx = calculate_ridge_metrics(transects, ridges, bin_raster, dem)\n",
    "itx = itx.loc[\"LBR_025\"]\n",
    "\n",
    "# Add packets\n",
    "itx_w_packets = itx.sjoin(packets.drop(\"bend_id\", axis=1))\n",
    "itx_w_packets = itx_w_packets.reset_index().set_index([\"transect_id\", \"ridge_id\", \"packet_id\"])\n",
    "ridge_metrics_w_packets = itx_w_packets[[\"ridge_amp\", \"ridge_width\", \"pre_mig_dist\", \"geometry\"]]\n",
    "ridge_metrics_w_packets.columns = ridge_metrics_w_packets.columns.rename(\"metrics\")\n",
    "\n",
    "# Save to disk\n",
    "itx_path = output_dir / f\"{bend_id}_intersections.geojson\"\n",
    "ridge_metrics_w_packets.to_file(itx_path, driver=\"GeoJSON\", index=True)"
   ]
  },
  {
   "cell_type": "code",
   "execution_count": null,
   "metadata": {},
   "outputs": [],
   "source": [
    "# Plot itx\n",
    "fig, ax = plt.subplots(1,1, figsize=(10,6))\n",
    "ridges.plot(ax=ax, color=\"k\", ls=\"--\", lw=0.5, zorder=0)\n",
    "transects.plot(ax=ax, color=\"k\", lw=1, zorder=1)\n",
    "cl.plot(ax=ax, color=\"tab:blue\", lw=5, zorder=2)\n",
    "\n",
    "itx_w_packets.plot(column=\"ridge_amp\", ax=ax, zorder=2, legend=True, \n",
    "                   legend_kwds={\"label\": \"Ridge Amplitude [m]\"})\n",
    "\n",
    "ax.set_title(\"Ridge amplitude at each intersection\")"
   ]
  }
 ],
 "metadata": {
  "kernelspec": {
   "display_name": "scroll5",
   "language": "python",
   "name": "python3"
  },
  "language_info": {
   "codemirror_mode": {
    "name": "ipython",
    "version": 3
   },
   "file_extension": ".py",
   "mimetype": "text/x-python",
   "name": "python",
   "nbconvert_exporter": "python",
   "pygments_lexer": "ipython3",
   "version": "3.10.12"
  }
 },
 "nbformat": 4,
 "nbformat_minor": 2
}
