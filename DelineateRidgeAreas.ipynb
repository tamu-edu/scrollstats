{
 "cells": [
  {
   "cell_type": "markdown",
   "metadata": {},
   "source": [
    "# Delineate Ridge Areas\n",
    "This notebook will delineate the ridge areas from the input DEM.\n",
    "\n",
    "Ridge area delineation is accomplished with the following operations:\n",
    "1. apply profile curvature and residual topography transformations\n",
    "2. apply binary classification to the transformed rasters\n",
    "3. find the agreement between the binary rasters\n",
    "4. denoise the agreement raster\n",
    "\n",
    "\n",
    "## Flow within each class\n",
    "Each of the geoprocessing steps outlined above is handled by a separate raster processing `class` which all operate in the same basic way\n",
    "- each class will take the input raster file path, the output directory, and any other required parameters as inputs\n",
    "- calling the `.execute()` method on the class instance will perform all required operations for the class including writing the output raster to disk in the output directory\n"
   ]
  },
  {
   "cell_type": "code",
   "execution_count": null,
   "metadata": {},
   "outputs": [],
   "source": [
    "from pathlib import Path\n",
    "\n",
    "import numpy as np\n",
    "import geopandas as gpd\n",
    "import rasterio\n",
    "import matplotlib.pyplot as plt\n",
    "\n",
    "from parameters import RASTER_WINDOW_SIZE\n",
    "from scrollstats.delineation import CalcProfileCurvature, CalcResidualTopography, BinaryClassifier, RasterAgreementAssessor, RasterClipper, RasterDenoiser"
   ]
  },
  {
   "cell_type": "markdown",
   "metadata": {},
   "source": [
    "## Define Inputs"
   ]
  },
  {
   "cell_type": "markdown",
   "metadata": {},
   "source": [
    "### Set input paths and output directory"
   ]
  },
  {
   "cell_type": "code",
   "execution_count": null,
   "metadata": {},
   "outputs": [],
   "source": [
    "# Input Paths\n",
    "dem_path = Path(\"example_data/input/LBR_025_dem.tif\")\n",
    "profc_path = Path(\"example_data/output/LBR_025_dem_profc45px.tif\")\n",
    "rt_path = Path(\"example_data/output/LBR_025_dem_rt45px.tif\")\n",
    "raster_paths = [profc_path, rt_path]\n",
    "\n",
    "bend_path = Path(\"example_data/input/LBR_025_bend.geojson\")\n",
    "\n",
    "# Output Directory\n",
    "output_dir = Path(\"example_data/output\")"
   ]
  },
  {
   "cell_type": "markdown",
   "metadata": {},
   "source": [
    "## Calc Profile Curvature\n",
    "- provide the dem path, the processing window size, and the output directory to the `CalcProfileCurvature` class\n",
    "    - ScrollStats uses the `r.param.scale` tool in GRASS GIS for this transformation\n",
    "- Call the `.execute()` method to calculate the transformation and save the transformed raster to the output directory\n",
    "- This process may take several seconds to complete - especially for larger window sizes. \n",
    "    - ~2min for `LBR_025_dem.tif` for 45px window size"
   ]
  },
  {
   "cell_type": "code",
   "execution_count": null,
   "metadata": {},
   "outputs": [],
   "source": [
    "profc = CalcProfileCurvature(dem_path, RASTER_WINDOW_SIZE, output_dir)\n",
    "profc_path = profc.execute()\n",
    "\n",
    "print(f\"Profile Curvature raster saved to {profc_path}\")"
   ]
  },
  {
   "cell_type": "markdown",
   "metadata": {},
   "source": [
    "## Calculate Residual Topography\n",
    "- provide the dem path, the processing window size, and the output directory to the `CalcResidualTopography` class\n",
    "- Call the `.execute()` method to calculate the transformation and save the transformed raster to the output directory\n",
    "- This process may take several seconds to complete - especially for larger window sizes. \n",
    "    - ~16s for `LBR_025_dem.tif` with a 45px window size"
   ]
  },
  {
   "cell_type": "code",
   "execution_count": null,
   "metadata": {},
   "outputs": [],
   "source": [
    "rt = CalcResidualTopography(dem_path, RASTER_WINDOW_SIZE, output_dir)\n",
    "rt_path = rt.execute()\n",
    "\n",
    "print(f\"RT raster saved to {rt_path}\")"
   ]
  },
  {
   "cell_type": "markdown",
   "metadata": {},
   "source": [
    "## DEM vs Residual Topography example "
   ]
  },
  {
   "cell_type": "code",
   "execution_count": null,
   "metadata": {},
   "outputs": [],
   "source": [
    "dem = rasterio.open(dem_path).read(1)\n",
    "dem[dem<-1e6] = np.nan\n",
    "\n",
    "profc = rasterio.open(profc_path).read(1)\n",
    "rt = rasterio.open(rt_path).read(1)\n",
    "\n",
    "fig, (ax1,ax2, ax3) = plt.subplots(1, 3, figsize=(20, 5))\n",
    "\n",
    "\n",
    "mapper = ax1.imshow(profc)\n",
    "fig.colorbar(mapper, ax=ax1)\n",
    "ax1.set_axis_off()\n",
    "ax1.set_title(\"Profile Curvature\")\n",
    "\n",
    "mapper = ax2.imshow(dem)\n",
    "ax2.set_axis_off()\n",
    "ax2.set_title(\"Original DEM\")\n",
    "\n",
    "mapper = ax3.imshow(rt)\n",
    "fig.colorbar(mapper, ax=ax3)\n",
    "ax3.set_axis_off()\n",
    "ax3.set_title(\"Residual Topography\");\n"
   ]
  },
  {
   "cell_type": "markdown",
   "metadata": {},
   "source": [
    "## Create binary classification\n",
    "- apply binary classification to both of the clipped rasters \n",
    "\n",
    "    ```python\n",
    "    if px > 0:\n",
    "        px == 1\n",
    "    if px <= 0:\n",
    "        px == 0\n",
    "    ```"
   ]
  },
  {
   "cell_type": "code",
   "execution_count": null,
   "metadata": {},
   "outputs": [],
   "source": [
    "raster_paths = [profc_path, rt_path]\n",
    "\n",
    "binclass_paths = []\n",
    "for path in raster_paths:\n",
    "    bc = BinaryClassifier(path, 0, output_dir)\n",
    "    binclass_path = bc.execute()\n",
    "    binclass_paths.append(binclass_path)"
   ]
  },
  {
   "cell_type": "code",
   "execution_count": null,
   "metadata": {},
   "outputs": [],
   "source": [
    "# Plot binary classification results\n",
    "profc = rasterio.open(raster_paths[0]).read(1)\n",
    "profc_bin = rasterio.open(binclass_paths[0]).read(1)\n",
    "\n",
    "fig, (ax1, ax2) = plt.subplots(1, 2, figsize=(10, 6))\n",
    "\n",
    "mapper = ax1.imshow(profc)\n",
    "ax1.set_axis_off()\n",
    "ax1.set_title(\"Original Raster\")\n",
    "\n",
    "mapper = ax2.imshow(profc_bin)\n",
    "ax2.set_axis_off()\n",
    "ax2.set_title(\"Binary Raster\");"
   ]
  },
  {
   "cell_type": "markdown",
   "metadata": {},
   "source": [
    "### Create agreement raster"
   ]
  },
  {
   "cell_type": "code",
   "execution_count": null,
   "metadata": {},
   "outputs": [],
   "source": [
    "# Set parameters\n",
    "bend_id = \"LBR_025\"\n",
    "profc_binclass_path, rt_binclass_path = binclass_paths\n",
    "\n",
    "ra = RasterAgreementAssessor(profc_binclass_path, rt_binclass_path, bend_id, output_dir)\n",
    "agreement_path = ra.execute()"
   ]
  },
  {
   "cell_type": "code",
   "execution_count": null,
   "metadata": {},
   "outputs": [],
   "source": [
    "# Plot agreement results\n",
    "profc = rasterio.open(profc_binclass_path).read(1)\n",
    "rt = rasterio.open(rt_binclass_path).read(1)\n",
    "agr = rasterio.open(agreement_path).read(1)\n",
    "\n",
    "fig, (ax1, ax2, ax3) = plt.subplots(1, 3, figsize=(12, 6))\n",
    "\n",
    "mapper = ax1.imshow(profc, alpha=0.7)\n",
    "ax1.set_axis_off()\n",
    "ax1.set_title(\"Profile Curvature\")\n",
    "\n",
    "mapper = ax2.imshow(agr)\n",
    "ax2.set_axis_off()\n",
    "ax2.set_title(\"Agreement\")\n",
    "\n",
    "mapper = ax3.imshow(rt, alpha=0.7)\n",
    "ax3.set_axis_off()\n",
    "ax3.set_title(\"Residual Topography\");"
   ]
  },
  {
   "cell_type": "markdown",
   "metadata": {},
   "source": [
    "### Clip DEM and Agreement raster\n",
    "\n",
    "**NOTE:** Details on how to create the bend area polygon are contained in the next notebook, but the polygon is being used now to clip the rasters. \n",
    "\n",
    "This greatly reduces the number of raster features before denoising and keeps all of the raster processing in one notebook\n"
   ]
  },
  {
   "cell_type": "code",
   "execution_count": null,
   "metadata": {},
   "outputs": [],
   "source": [
    "bend = gpd.GeoDataFrame.from_file(bend_path)\n",
    "\n",
    "raster_paths = [dem_path, agreement_path]\n",
    "\n",
    "clip_paths = []\n",
    "for raster_path in raster_paths:\n",
    "\n",
    "    geom = bend[\"geometry\"][0] # RasterClipper requires a shapely polygon, not geodataframe\n",
    "\n",
    "    rc = RasterClipper(raster_path, geom, output_dir)\n",
    "    clip_path = rc.execute()\n",
    "    \n",
    "    clip_paths.append(clip_path)\n",
    "\n",
    "dem_clip_path, agreement_clip_path = clip_paths"
   ]
  },
  {
   "cell_type": "code",
   "execution_count": null,
   "metadata": {},
   "outputs": [],
   "source": [
    "# Plot clip results\n",
    "rt = rasterio.open(agreement_path).read(1)\n",
    "rt_clip = rasterio.open(agreement_clip_path).read(1)\n",
    "\n",
    "fig, (ax1, ax2) = plt.subplots(1, 2, figsize=(10, 6))\n",
    "\n",
    "mapper = ax1.imshow(rt)\n",
    "ax1.set_axis_off()\n",
    "ax1.set_title(\"Original Raster\")\n",
    "\n",
    "\n",
    "mapper = ax2.imshow(rt_clip)\n",
    "ax2.set_axis_off()\n",
    "ax2.set_title(\"Clipped Raster\");"
   ]
  },
  {
   "cell_type": "markdown",
   "metadata": {},
   "source": [
    "### Denoise agreement raster"
   ]
  },
  {
   "cell_type": "code",
   "execution_count": null,
   "metadata": {},
   "outputs": [],
   "source": [
    "# Set thresholds for denoising\n",
    "small_feats_size = 500\n",
    "elongation_threshold = 80\n",
    "\n",
    "dn = RasterDenoiser(agreement_clip_path, small_feats_size, elongation_threshold, output_dir)\n",
    "denoise_path = dn.execute()"
   ]
  },
  {
   "cell_type": "code",
   "execution_count": null,
   "metadata": {},
   "outputs": [],
   "source": [
    "# Plot denoising results\n",
    "agr = rasterio.open(agreement_clip_path).read(1)\n",
    "denoise = rasterio.open(denoise_path).read(1)\n",
    "\n",
    "fig, (ax1, ax2) = plt.subplots(1, 2, figsize=(10, 6))\n",
    "\n",
    "mapper = ax1.imshow(agr)\n",
    "ax1.set_axis_off()\n",
    "ax1.set_title(\"Agreement\")\n",
    "\n",
    "mapper = ax2.imshow(denoise)\n",
    "ax2.set_axis_off()\n",
    "ax2.set_title(\"Denoised\");"
   ]
  },
  {
   "cell_type": "markdown",
   "metadata": {},
   "source": [
    "## Move on to [`CreateVectorDatasets.ipynb`](CreateVectorDatasets.ipynb)\n",
    "- [`CreateVectorDatasets.ipynb`](CreateVectorDatasets.ipynb) will walk through the processes and rationale for creating the vector datasets needed for ScrollStats\n",
    "- The ridge area raster created from this notebook will be used in later notebooks\n"
   ]
  }
 ],
 "metadata": {
  "kernelspec": {
   "display_name": "scroll",
   "language": "python",
   "name": "python3"
  },
  "language_info": {
   "codemirror_mode": {
    "name": "ipython",
    "version": 3
   },
   "file_extension": ".py",
   "mimetype": "text/x-python",
   "name": "python",
   "nbconvert_exporter": "python",
   "pygments_lexer": "ipython3",
   "version": "3.10.14"
  },
  "orig_nbformat": 4
 },
 "nbformat": 4,
 "nbformat_minor": 2
}
