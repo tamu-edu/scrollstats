{
 "cells": [
  {
   "cell_type": "code",
   "execution_count": null,
   "metadata": {},
   "outputs": [],
   "source": [
    "from typing import List\n",
    "import warnings\n",
    "\n",
    "import numpy as np\n",
    "import geopandas as gpd\n",
    "import rasterio\n",
    "import pandas as pd\n",
    "from shapely.geometry import LineString, Point\n",
    "from shapely.errors import ShapelyDeprecationWarning\n",
    "import matplotlib.pyplot as plt\n",
    "plt.rcParams[\"figure.facecolor\"] = \"white\"\n",
    "plt.rcParams[\"axes.facecolor\"] = \"white\"\n",
    "plt.rcParams[\"font.family\"] = \"Arial\"\n",
    "from scipy import ndimage\n",
    "\n",
    "from scrollstats import RASTER_PATHS\n",
    "from scrollstats import BendDataset, calculate_ridge_metrics, calc_dist\n",
    "from scrollstats import BendDataExtractor, TransectDataExtractor, RidgeDataExtractor"
   ]
  },
  {
   "cell_type": "code",
   "execution_count": null,
   "metadata": {},
   "outputs": [],
   "source": [
    "bend_id = \"MIS_005\"\n",
    "\n",
    "# Get rasters\n",
    "dem = rasterio.open(RASTER_PATHS[bend_id][\"dem\"])\n",
    "bin_raster = rasterio.open(RASTER_PATHS[bend_id][\"bin\"])\n",
    "\n",
    "# Get vectors\n",
    "bend_ds = BendDataset(bend_id)\n",
    "ridges = bend_ds.get_ridges(True)\n",
    "transects = bend_ds.get_transects(True)"
   ]
  },
  {
   "attachments": {},
   "cell_type": "markdown",
   "metadata": {},
   "source": [
    "## Extract data along transects"
   ]
  },
  {
   "cell_type": "code",
   "execution_count": null,
   "metadata": {},
   "outputs": [],
   "source": [
    "with warnings.catch_warnings():\n",
    "    warnings.simplefilter(\"ignore\", ShapelyDeprecationWarning)\n",
    "    rich_transects, itx = calculate_ridge_metrics(transects, bin_raster, dem, ridges)\n",
    "\n",
    "itx = itx.loc[bend_id]"
   ]
  },
  {
   "cell_type": "code",
   "execution_count": null,
   "metadata": {},
   "outputs": [],
   "source": [
    "t = transects.set_index(\"transect_id\").loc[[\"t_016\"]]\n",
    "t"
   ]
  },
  {
   "cell_type": "code",
   "execution_count": null,
   "metadata": {},
   "outputs": [],
   "source": [
    "fig, ax = plt.subplots(1,1, figsize=(7,4))\n",
    "\n",
    "itx.plot(ax=ax, column=\"ridge_amp\", markersize=\"ridge_width\", legend=True, missing_kwds={\"edgecolor\":\"k\", \"facecolor\":\"None\"})\n",
    "# itx.plot(ax=ax, markersize=\"ridge_width\", facecolor=None)\n",
    "ridges.plot(ax=ax, color=\"k\", ls=\"--\", lw=0.5, zorder=0)\n",
    "# t.plot(ax=ax, color=\"k\")\n",
    "\n",
    "\n",
    "cbar = fig.axes[1]\n",
    "min_max = itx[\"ridge_amp\"].quantile([0,1])\n",
    "cbar.set_yticks(min_max, labels = np.round(min_max, 1))\n",
    "\n",
    "cbar.set_ylabel(\"Ridge Amplitude [m]\", rotation=270)\n",
    "\n",
    "ax.set_title(f\"{bend_id}: Ridge width and amplitude\")\n",
    "ax.set_axis_off()\n",
    "# plt.savefig(f\"/Users/avan/FLUD/BrazosScrolls/figures/{bend_id}_HighAmplitude.png\", dpi=300)"
   ]
  },
  {
   "attachments": {},
   "cell_type": "markdown",
   "metadata": {},
   "source": [
    "# Ridge Amplitudes\n",
    "**Problem**: initial ridge amps are too high  \n",
    "**Solution**: Force ridge amp calculation to only use inner measurement  \n",
    "\n",
    "**Code Problem**: RidgeDataExtractor does not know where on the transect it currently is  \n",
    "**Code Solution**: Introduce transect position to the RDE and Ridge Amp calulations  "
   ]
  },
  {
   "cell_type": "code",
   "execution_count": null,
   "metadata": {},
   "outputs": [],
   "source": [
    "s = \" False False False False False False False False False False False False False False False False False False False False False False False False False False False False False False False False False False False False False False False False False False False False False False False False False False False False False False False False False False False False False False False False False False False False False False False False False False False False False False False False False False False False False False False False False False False False False False False False False False False False False False False False False False False  True True  True  True  True  True  True  True  True  True  True  True  True True  True  True  True  True  True  True  True False False False False True  True  True  True  True  True  True  True\"\n",
    "\n",
    "s.replace(\" \", \"\").replace(\"e\", \"e, \")"
   ]
  },
  {
   "cell_type": "code",
   "execution_count": null,
   "metadata": {},
   "outputs": [],
   "source": [
    "a = np.array([False, False, False, False, False, False, False, False, False, False, False, False, False, False, False, False, False, False, False, False, False, False, False, False, False, False, False, False, False, False, False, False, False, False, False, False, False, False, False, False, False, False, False, False, False, False, False, False, False, False, False, False, False, False, False, False, False, False, False, False, False, False, False, False, False, False, False, False, False, False, False, False, False, False, False, False, False, False, False, False, False, False, False, False, False, False, False, False, False, False, False, False, False, False, False, False, False, False, False, False, False, False, False, False, False, False, False, True, True, True, True, True, True, True, True, True, True, True, True, True, True, True, True, True, True, True, True, True, False, False, False, False, True, True, True, True, True, True, True, True])\n",
    "a"
   ]
  },
  {
   "attachments": {},
   "cell_type": "markdown",
   "metadata": {},
   "source": [
    "What about removing the first null space from the mask makes the ridge centers of mass mismatch?"
   ]
  },
  {
   "cell_type": "code",
   "execution_count": null,
   "metadata": {},
   "outputs": [],
   "source": [
    "chosen_transect = itx.loc[\"t_016\"].sort_values(\"transect_position\")\n",
    "for i, row in chosen_transect.iterrows():\n",
    "\n",
    "    geom = row[\"substring_geometry\"]\n",
    "    dem_sig = row[\"dem_signal_selection\"]\n",
    "    # bin_sig = row[\"bin_signal\"]\n",
    "    bin_sig = row[\"bool_mask\"]\n",
    "    pos = row[\"transect_position\"]\n",
    "    dq_adj = row[\"swale_dq_adjustment\"]\n",
    "\n",
    "    fig, ax = plt.subplots(1,1, figsize=(6, 3))\n",
    "    ax.plot(dem_sig, label=\"DEM\")\n",
    "    ax.plot((bin_sig * (np.nanmax(dem_sig)- np.nanmin(dem_sig)))+ np.nanmin(dem_sig), label=\"Binary Classification\")\n",
    "\n",
    "    p1, p2, p3 = [Point(p) for p in geom.coords]\n",
    "    d1 = p1.distance(p2) - dq_adj\n",
    "    d2 = p2.distance(p3)\n",
    "\n",
    "    x = [0, d1, d1+d2]\n",
    "    y = np.ones(3)*np.nanmax(dem_sig)+1\n",
    "    ax.plot(x, \n",
    "            y,\n",
    "            color=\"k\",\n",
    "            marker=\".\",\n",
    "            markersize=10,\n",
    "            label = \"Transect + Vertices\")\n",
    "    \n",
    "    ax.annotate(pos, (x[1]+2, y[1]-0.1), verticalalignment=\"top\", horizontalalignment=\"center\", )\n",
    "    ax.legend()\n",
    "    ax.set_title(\"DEM and binary profile at the channel\")\n",
    "    ax.set_ylabel(\"Elevation [m]\")\n",
    "    ax.set_xlabel(\"Distance from channel [m]\")\n"
   ]
  },
  {
   "cell_type": "code",
   "execution_count": null,
   "metadata": {},
   "outputs": [],
   "source": [
    "fig, ax = plt.subplots(1,1, figsize=(3,4))\n",
    "\n",
    "itx.plot(ax=ax, categorical=True, column=\"metric_confidence\", markersize=10, legend=True)\n",
    "ridges.plot(ax=ax, color=\"k\", ls=\"--\", lw=0.5, zorder=0)\n",
    "\n",
    "# cbar = fig.axes[1]\n",
    "# min_max = itx[\"ridge_amp\"].quantile([0,1])\n",
    "# cbar.set_yticks(min_max, labels = np.round(min_max, 1))\n",
    "\n",
    "cbar.set_ylabel(\"Ridge Amplitude [m]\", rotation=270)\n",
    "\n",
    "ax.set_title(\"Confidence rating at\\ntransect-ridge intersections\")\n",
    "ax.set_axis_off()\n",
    "plt.tight_layout()\n",
    "plt.savefig(f\"/Users/avan/FLUD/BrazosScrolls/figures/MetricConfidence_{bend_id}.png\", dpi=300)"
   ]
  },
  {
   "attachments": {},
   "cell_type": "markdown",
   "metadata": {},
   "source": [
    "## General Metrics I want to see\n",
    "\n",
    "1. Variation within packets\n",
    "2. Variation along transects\n",
    "3. Variation along ridges\n"
   ]
  }
 ],
 "metadata": {
  "kernelspec": {
   "display_name": "scroll",
   "language": "python",
   "name": "python3"
  },
  "language_info": {
   "codemirror_mode": {
    "name": "ipython",
    "version": 3
   },
   "file_extension": ".py",
   "mimetype": "text/x-python",
   "name": "python",
   "nbconvert_exporter": "python",
   "pygments_lexer": "ipython3",
   "version": "3.8.12"
  },
  "orig_nbformat": 4,
  "vscode": {
   "interpreter": {
    "hash": "7409b25eb16fa89319354d468254344b85e09b2f361a66000af5d1897a4f1a3b"
   }
  }
 },
 "nbformat": 4,
 "nbformat_minor": 2
}
