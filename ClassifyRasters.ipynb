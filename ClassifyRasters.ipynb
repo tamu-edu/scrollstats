{
 "cells": [
  {
   "cell_type": "markdown",
   "metadata": {},
   "source": [
    "# Delineate Ridge Areas\n",
    "- delineate the ridge areas from the transformed rasters\n",
    "- this script will clip, classify, compare, and denoise a raster\n",
    "- this script is designed to operate on one bend at a time \n",
    "- another script is responsible for i/o and matching ridge boundaries to rasters\n",
    "\n",
    "\n",
    "## Flow within each class\n",
    "- class will take in and ultimately return file paths for rasters\n",
    "- the `.execute()` method will perform all major operations for a class including read/write from disk\n",
    "- all other inidividual methods should just manipulate arrays \n"
   ]
  },
  {
   "cell_type": "code",
   "execution_count": null,
   "metadata": {},
   "outputs": [],
   "source": [
    "from pathlib import Path\n",
    "\n",
    "import matplotlib.pyplot as plt\n",
    "import rasterio\n",
    "import pandas as pd\n",
    "\n",
    "from scrollstats import BendDataset\n",
    "from scrollstats.delineation import RasterClipper, BinaryClassifier, RasterAgreementAssessor, RasterDenoiser"
   ]
  },
  {
   "cell_type": "markdown",
   "metadata": {},
   "source": [
    "## Prepare Inputs"
   ]
  },
  {
   "cell_type": "markdown",
   "metadata": {},
   "source": [
    "### Set input/output directories"
   ]
  },
  {
   "cell_type": "code",
   "execution_count": null,
   "metadata": {},
   "outputs": [],
   "source": [
    "output_path = Path(\"data/output\")\n",
    "\n",
    "# Profile Curvature\n",
    "profc_dir = output_path / \"profc\"\n",
    "\n",
    "# Residual Topography\n",
    "rt_dir = output_path / \"rt\""
   ]
  },
  {
   "cell_type": "markdown",
   "metadata": {},
   "source": [
    "### Filter/sort raster paths"
   ]
  },
  {
   "cell_type": "code",
   "execution_count": null,
   "metadata": {},
   "outputs": [],
   "source": [
    "## regex-like pattern matching to filter dems; \n",
    "## leave as \"*\" to match all files in `dem_dir`\n",
    "regex_str = \"sb_5*.tif\"\n",
    "\n",
    "## function used to sort the dems within `dem_dir`\n",
    "## simply return `x` to use default filename sorting\n",
    "def sort_func(x):\n",
    "    return x\n",
    "\n",
    "# Create a list of profc paths \n",
    "profc_paths = sorted(profc_dir.glob(regex_str), key=sort_func)\n",
    "\n",
    "# Create a list of rt paths\n",
    "rt_paths = sorted(rt_dir.glob(regex_str), key=sort_func)\n",
    "\n",
    "# Create a check to make sure profc and rt paths match up"
   ]
  },
  {
   "cell_type": "markdown",
   "metadata": {},
   "source": [
    "### Gather bend boundaries"
   ]
  },
  {
   "cell_type": "code",
   "execution_count": null,
   "metadata": {},
   "outputs": [],
   "source": [
    "# Set up bend dataframes\n",
    "bends = []\n",
    "\n",
    "for path in profc_paths:\n",
    "    num = path.stem.split(\"_\")[2]\n",
    "    bend_id = f\"LBR_{num}\"\n",
    "    bend = BendDataset(bend_id).get_bend(proj=True)\n",
    "    bends.append(bend)\n",
    "    \n",
    "bends = pd.concat(bends)\n",
    "bends"
   ]
  },
  {
   "cell_type": "markdown",
   "metadata": {},
   "source": [
    "## Process Rasters"
   ]
  },
  {
   "cell_type": "markdown",
   "metadata": {},
   "source": [
    "### Clip Rasters"
   ]
  },
  {
   "cell_type": "code",
   "execution_count": null,
   "metadata": {},
   "outputs": [],
   "source": [
    "# Clip residual topography rasters\n",
    "rt_clip_dir = output_path / \"rt_clip\"\n",
    "\n",
    "for rt_path, bend in zip(rt_paths, bends[\"geometry\"]):\n",
    "    rc = RasterClipper(rt_path, bend, rt_clip_dir)\n",
    "    clip_path = rc.execute()\n",
    "\n",
    "################################\n",
    "# Plot results\n",
    "\n",
    "rt = rasterio.open(rt_path).read(1)\n",
    "rt_clip = rasterio.open(clip_path).read(1)\n",
    "\n",
    "fig, (ax1, ax2) = plt.subplots(1, 2, figsize=(10, 6))\n",
    "\n",
    "mapper = ax1.imshow(rt)\n",
    "ax1.set_axis_off()\n",
    "ax1.set_title(\"Original Raster\")\n",
    "\n",
    "\n",
    "mapper = ax2.imshow(rt_clip)\n",
    "ax2.set_axis_off()\n",
    "ax2.set_title(\"Clipped Raster\");\n"
   ]
  },
  {
   "cell_type": "code",
   "execution_count": null,
   "metadata": {},
   "outputs": [],
   "source": [
    "# Clip profile curvature rasters\n",
    "profc_clip_dir = output_path / \"profc_clip\"\n",
    "\n",
    "for profc_path, bend in zip(profc_paths, bends[\"geometry\"]):\n",
    "    rc = RasterClipper(profc_path, bend, profc_clip_dir)\n",
    "    clip_path = rc.execute()\n",
    "\n",
    "\n",
    "################################\n",
    "# Plot results\n",
    "\n",
    "profc = rasterio.open(profc_path).read(1)\n",
    "profc_clip = rasterio.open(clip_path).read(1)\n",
    "\n",
    "fig, (ax1, ax2) = plt.subplots(1, 2, figsize=(10, 6))\n",
    "\n",
    "mapper = ax1.imshow(profc)\n",
    "ax1.set_axis_off()\n",
    "ax1.set_title(\"Original Raster\")\n",
    "\n",
    "mapper = ax2.imshow(profc_clip)\n",
    "ax2.set_axis_off()\n",
    "ax2.set_title(\"Clipped Raster\");"
   ]
  },
  {
   "cell_type": "markdown",
   "metadata": {},
   "source": [
    "### Create binary classification\n"
   ]
  },
  {
   "cell_type": "code",
   "execution_count": null,
   "metadata": {},
   "outputs": [],
   "source": [
    "# Classify Profile Curvature raster\n",
    "profc_clip_paths = sorted(profc_clip_dir.glob(regex_str), key=sort_func)\n",
    "profc_bin_dir = output_path / \"profc_bin\"\n",
    "\n",
    "for path in profc_clip_paths:\n",
    "    bc = BinaryClassifier(path, 0, profc_bin_dir)\n",
    "    out_path = bc.execute()\n",
    "\n",
    "\n",
    "################################\n",
    "# Plot results\n",
    "\n",
    "profc = rasterio.open(path).read(1)\n",
    "profc_bin = rasterio.open(out_path).read(1)\n",
    "\n",
    "fig, (ax1, ax2) = plt.subplots(1, 2, figsize=(10, 6))\n",
    "\n",
    "mapper = ax1.imshow(profc)\n",
    "ax1.set_axis_off()\n",
    "ax1.set_title(\"Original Raster\")\n",
    "\n",
    "mapper = ax2.imshow(profc_bin)\n",
    "ax2.set_axis_off()\n",
    "ax2.set_title(\"Binary Raster\");"
   ]
  },
  {
   "cell_type": "code",
   "execution_count": null,
   "metadata": {},
   "outputs": [],
   "source": [
    "rt_clip_paths = sorted(rt_clip_dir.glob(regex_str), key=sort_func)\n",
    "rt_bin_dir = output_path / \"rt_bin\"\n",
    "\n",
    "for path in rt_clip_paths:\n",
    "    bc = BinaryClassifier(path, 0, rt_bin_dir)\n",
    "    out_path = bc.execute()\n",
    "\n",
    "\n",
    "################################\n",
    "# Plot results\n",
    "\n",
    "rt = rasterio.open(path).read(1)\n",
    "rt_bin = rasterio.open(out_path).read(1)\n",
    "\n",
    "fig, (ax1, ax2) = plt.subplots(1, 2, figsize=(10, 6))\n",
    "\n",
    "mapper = ax1.imshow(rt)\n",
    "ax1.set_axis_off()\n",
    "ax1.set_title(\"Original Raster\")\n",
    "\n",
    "mapper = ax2.imshow(rt_bin)\n",
    "ax2.set_axis_off()\n",
    "ax2.set_title(\"Binary Raster\");"
   ]
  },
  {
   "cell_type": "markdown",
   "metadata": {},
   "source": [
    "### Test Agreement"
   ]
  },
  {
   "cell_type": "code",
   "execution_count": null,
   "metadata": {},
   "outputs": [],
   "source": [
    "rt = rt_clip_paths[0].stem\n",
    "profc = profc_clip_paths[0].stem\n",
    "\n",
    "bend_id = rt[:rt.find(\"_rt\")]"
   ]
  },
  {
   "cell_type": "code",
   "execution_count": null,
   "metadata": {},
   "outputs": [],
   "source": [
    "profc_bin_paths = sorted(profc_bin_dir.glob(regex_str), key=sort_func)\n",
    "rt_bin_paths = sorted(rt_bin_dir.glob(regex_str), key=sort_func)\n",
    "bend_ids = [p.stem[:p.stem.find(\"_profc\")] for p in profc_bin_paths]\n",
    "\n",
    "\n",
    "for (profc, rt, bend_id) in zip(profc_bin_paths, rt_bin_paths, bend_ids):\n",
    "    ra = RasterAgreementAssessor(profc, rt, bend_id, output_path)\n",
    "    out_path = ra.execute()\n",
    "\n",
    "\n",
    "################################\n",
    "# Plot results\n",
    "\n",
    "profc = rasterio.open(profc).read(1)\n",
    "rt = rasterio.open(rt).read(1)\n",
    "agr = rasterio.open(out_path).read(1)\n",
    "\n",
    "fig, (ax1, ax2, ax3) = plt.subplots(1, 3, figsize=(12, 6))\n",
    "\n",
    "mapper = ax1.imshow(profc, alpha=0.7)\n",
    "ax1.set_axis_off()\n",
    "ax1.set_title(\"Profile Curvature\")\n",
    "\n",
    "mapper = ax2.imshow(agr)\n",
    "ax2.set_axis_off()\n",
    "ax2.set_title(\"Agreement\")\n",
    "\n",
    "mapper = ax3.imshow(rt, alpha=0.7)\n",
    "ax3.set_axis_off()\n",
    "ax3.set_title(\"Residual Topography\");"
   ]
  },
  {
   "cell_type": "markdown",
   "metadata": {},
   "source": [
    "### Test Denoise"
   ]
  },
  {
   "cell_type": "code",
   "execution_count": null,
   "metadata": {},
   "outputs": [],
   "source": [
    "# Set thresholds for denoising\n",
    "small_feats_size = 500\n",
    "elongation_threshold = 80\n",
    "\n",
    "# Set input dir\n",
    "agr_dir = output_path / \"agr\"\n",
    "\n",
    "# Set out_dir\n",
    "denoise_dir = output_path / \"agr_denoise\""
   ]
  },
  {
   "cell_type": "code",
   "execution_count": null,
   "metadata": {},
   "outputs": [],
   "source": [
    "agr_paths = sorted(agr_dir.glob(regex_str), key=sort_func)\n",
    "\n",
    "for path in agr_paths:\n",
    "    dn = RasterDenoiser(path, small_feats_size, elongation_threshold, denoise_dir)\n",
    "    out_path = dn.execute()\n",
    "\n",
    "################################\n",
    "# Plot results\n",
    "agr = rasterio.open(path).read(1)\n",
    "denoise = rasterio.open(out_path).read(1)\n",
    "\n",
    "fig, (ax1, ax2) = plt.subplots(1, 2, figsize=(10, 6))\n",
    "\n",
    "mapper = ax1.imshow(agr)\n",
    "ax1.set_axis_off()\n",
    "ax1.set_title(\"Agreement\")\n",
    "\n",
    "mapper = ax2.imshow(denoise)\n",
    "ax2.set_axis_off()\n",
    "ax2.set_title(\"Denoised\");"
   ]
  },
  {
   "cell_type": "code",
   "execution_count": null,
   "metadata": {},
   "outputs": [],
   "source": []
  }
 ],
 "metadata": {
  "kernelspec": {
   "display_name": "scroll",
   "language": "python",
   "name": "python3"
  },
  "language_info": {
   "codemirror_mode": {
    "name": "ipython",
    "version": 3
   },
   "file_extension": ".py",
   "mimetype": "text/x-python",
   "name": "python",
   "nbconvert_exporter": "python",
   "pygments_lexer": "ipython3",
   "version": "3.8.12"
  },
  "orig_nbformat": 4
 },
 "nbformat": 4,
 "nbformat_minor": 2
}
