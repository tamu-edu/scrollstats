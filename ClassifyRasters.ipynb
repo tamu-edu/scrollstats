{
 "cells": [
  {
   "cell_type": "markdown",
   "metadata": {},
   "source": [
    "# Delineate Ridge Areas\n",
    "This notebook will delineate the ridge areas from the transformed rasters.\n",
    "\n",
    "Ridge area delineation is accomplished with the following operations:\n",
    "1. clip the transformed rasters\n",
    "2. apply binary classification to the clipped rasters\n",
    "3. find the agreement between the binary rasters\n",
    "4. denoise the agreement raster\n",
    "\n",
    "\n",
    "## Flow within each class\n",
    "Each of the geoprocessing steps outlined above is handled by a separate raster processing `class` which all operate in the same basic way\n",
    "- each class will take the input raster file path, the output directory, and any other required parameters as inputs\n",
    "- calling the `.execute()` method on the class instance will perform all required operations for the class including writing the output raster to disk in the output directory\n"
   ]
  },
  {
   "cell_type": "code",
   "execution_count": null,
   "metadata": {},
   "outputs": [],
   "source": [
    "from pathlib import Path\n",
    "\n",
    "import matplotlib.pyplot as plt\n",
    "import rasterio\n",
    "import geopandas as gpd\n",
    "\n",
    "from scrollstats.delineation import RasterClipper, BinaryClassifier, RasterAgreementAssessor, RasterDenoiser"
   ]
  },
  {
   "cell_type": "markdown",
   "metadata": {},
   "source": [
    "## Prepare Inputs"
   ]
  },
  {
   "cell_type": "markdown",
   "metadata": {},
   "source": [
    "### Set input paths and output directory"
   ]
  },
  {
   "cell_type": "code",
   "execution_count": null,
   "metadata": {},
   "outputs": [],
   "source": [
    "# Input Paths\n",
    "bend_path = Path(\"example_data/input/LBR_025_bend.geojson\")\n",
    "profc_path = Path(\"example_data/output/LBR_025_dem_profc45px.tif\")\n",
    "rt_path = Path(\"example_data/output/LBR_025_dem_rt45px.tif\")\n",
    "\n",
    "raster_paths = [profc_path, rt_path]\n",
    "\n",
    "# Output Directory\n",
    "output_dir = Path(\"example_data/output\")"
   ]
  },
  {
   "cell_type": "markdown",
   "metadata": {},
   "source": [
    "### Plot bend boundary"
   ]
  },
  {
   "cell_type": "code",
   "execution_count": null,
   "metadata": {},
   "outputs": [],
   "source": [
    "bend = gpd.GeoDataFrame.from_file(bend_path)\n",
    "bend.explore()"
   ]
  },
  {
   "cell_type": "markdown",
   "metadata": {},
   "source": [
    "## Process Rasters"
   ]
  },
  {
   "cell_type": "markdown",
   "metadata": {},
   "source": [
    "### Clip tranformed rasters\n",
    "- clip both the profile curvature and residual topography rasters to the bend boundary"
   ]
  },
  {
   "cell_type": "code",
   "execution_count": null,
   "metadata": {},
   "outputs": [],
   "source": [
    "clip_paths = []\n",
    "for raster_path in raster_paths:\n",
    "\n",
    "    geom = bend[\"geometry\"][0] # RasterClipper requires a shapely polygon, not geodataframe\n",
    "\n",
    "    rc = RasterClipper(raster_path, geom, output_dir)\n",
    "    clip_path = rc.execute()\n",
    "    \n",
    "    clip_paths.append(clip_path)"
   ]
  },
  {
   "cell_type": "code",
   "execution_count": null,
   "metadata": {},
   "outputs": [],
   "source": [
    "# Plot clip results\n",
    "rt = rasterio.open(rt_path).read(1)\n",
    "rt_clip = rasterio.open(clip_paths[1]).read(1)\n",
    "\n",
    "fig, (ax1, ax2) = plt.subplots(1, 2, figsize=(10, 6))\n",
    "\n",
    "mapper = ax1.imshow(rt)\n",
    "ax1.set_axis_off()\n",
    "ax1.set_title(\"Original Raster\")\n",
    "\n",
    "\n",
    "mapper = ax2.imshow(rt_clip)\n",
    "ax2.set_axis_off()\n",
    "ax2.set_title(\"Clipped Raster\");\n"
   ]
  },
  {
   "cell_type": "markdown",
   "metadata": {},
   "source": [
    "### Create binary classification\n",
    "- apply binary classification to both of the clipped rasters \n",
    "\n",
    "    ```\n",
    "    if px > 0:\n",
    "        px == 1\n",
    "    if px <= 0:\n",
    "        px == 0\n",
    "    ```"
   ]
  },
  {
   "cell_type": "code",
   "execution_count": null,
   "metadata": {},
   "outputs": [],
   "source": [
    "binclass_paths = []\n",
    "for clip_path in clip_paths:\n",
    "    bc = BinaryClassifier(clip_path, 0, output_dir)\n",
    "    binclass_path = bc.execute()\n",
    "    binclass_paths.append(binclass_path)"
   ]
  },
  {
   "cell_type": "code",
   "execution_count": null,
   "metadata": {},
   "outputs": [],
   "source": [
    "# Plot binary classification results\n",
    "profc = rasterio.open(clip_paths[0]).read(1)\n",
    "profc_bin = rasterio.open(binclass_paths[0]).read(1)\n",
    "\n",
    "fig, (ax1, ax2) = plt.subplots(1, 2, figsize=(10, 6))\n",
    "\n",
    "mapper = ax1.imshow(profc)\n",
    "ax1.set_axis_off()\n",
    "ax1.set_title(\"Original Raster\")\n",
    "\n",
    "mapper = ax2.imshow(profc_bin)\n",
    "ax2.set_axis_off()\n",
    "ax2.set_title(\"Binary Raster\");"
   ]
  },
  {
   "cell_type": "markdown",
   "metadata": {},
   "source": [
    "### Create agreement raster"
   ]
  },
  {
   "cell_type": "code",
   "execution_count": null,
   "metadata": {},
   "outputs": [],
   "source": [
    "# Set parameters\n",
    "bend_id = \"LBR_025\"\n",
    "profc_binclass_path = binclass_paths[0]\n",
    "rt_binclass_path = binclass_paths[1]\n",
    "\n",
    "ra = RasterAgreementAssessor(profc_binclass_path, rt_binclass_path, bend_id, output_dir)\n",
    "agreement_path = ra.execute()"
   ]
  },
  {
   "cell_type": "code",
   "execution_count": null,
   "metadata": {},
   "outputs": [],
   "source": [
    "# Plot agreement results\n",
    "profc = rasterio.open(profc_binclass_path).read(1)\n",
    "rt = rasterio.open(rt_binclass_path).read(1)\n",
    "agr = rasterio.open(agreement_path).read(1)\n",
    "\n",
    "fig, (ax1, ax2, ax3) = plt.subplots(1, 3, figsize=(12, 6))\n",
    "\n",
    "mapper = ax1.imshow(profc, alpha=0.7)\n",
    "ax1.set_axis_off()\n",
    "ax1.set_title(\"Profile Curvature\")\n",
    "\n",
    "mapper = ax2.imshow(agr)\n",
    "ax2.set_axis_off()\n",
    "ax2.set_title(\"Agreement\")\n",
    "\n",
    "mapper = ax3.imshow(rt, alpha=0.7)\n",
    "ax3.set_axis_off()\n",
    "ax3.set_title(\"Residual Topography\");"
   ]
  },
  {
   "cell_type": "markdown",
   "metadata": {},
   "source": [
    "### Denoise agreement raster"
   ]
  },
  {
   "cell_type": "code",
   "execution_count": null,
   "metadata": {},
   "outputs": [],
   "source": [
    "# Set thresholds for denoising\n",
    "small_feats_size = 500\n",
    "elongation_threshold = 80\n",
    "\n",
    "dn = RasterDenoiser(agreement_path, small_feats_size, elongation_threshold, output_dir)\n",
    "denoise_path = dn.execute()"
   ]
  },
  {
   "cell_type": "code",
   "execution_count": null,
   "metadata": {},
   "outputs": [],
   "source": [
    "# Plot denoising results\n",
    "agr = rasterio.open(agreement_path).read(1)\n",
    "denoise = rasterio.open(denoise_path).read(1)\n",
    "\n",
    "fig, (ax1, ax2) = plt.subplots(1, 2, figsize=(10, 6))\n",
    "\n",
    "mapper = ax1.imshow(agr)\n",
    "ax1.set_axis_off()\n",
    "ax1.set_title(\"Agreement\")\n",
    "\n",
    "mapper = ax2.imshow(denoise)\n",
    "ax2.set_axis_off()\n",
    "ax2.set_title(\"Denoised\");"
   ]
  },
  {
   "cell_type": "markdown",
   "metadata": {},
   "source": [
    "## Move on to [`CalculateRidgeMetrics.ipynb`](CalculateRidgeMetrics.ipynb)\n",
    "- All of the required datasets for ridge metric calculation have now been created. \n",
    "- Open the notebook `CalculateRidgeMetrics.ipynb` to calculate ridge metrics."
   ]
  },
  {
   "cell_type": "markdown",
   "metadata": {},
   "source": []
  }
 ],
 "metadata": {
  "kernelspec": {
   "display_name": "scroll",
   "language": "python",
   "name": "python3"
  },
  "language_info": {
   "codemirror_mode": {
    "name": "ipython",
    "version": 3
   },
   "file_extension": ".py",
   "mimetype": "text/x-python",
   "name": "python",
   "nbconvert_exporter": "python",
   "pygments_lexer": "ipython3",
   "version": "3.8.12"
  },
  "orig_nbformat": 4
 },
 "nbformat": 4,
 "nbformat_minor": 2
}
