{
 "cells": [
  {
   "cell_type": "code",
   "execution_count": 65,
   "metadata": {},
   "outputs": [],
   "source": [
    "from scrollstats import BendDataset"
   ]
  },
  {
   "cell_type": "code",
   "execution_count": 66,
   "metadata": {},
   "outputs": [],
   "source": [
    "def table1_info(bend_id):\n",
    "    \"\"\"Get all info for table 1 in the MS\n",
    "    centroid: EPSG4326\n",
    "    bend length: km\n",
    "    bend area: km^2\n",
    "    \"\"\"\n",
    "    ds = BendDataset(bend_id)\n",
    "\n",
    "    # Get bend area info\n",
    "    bend = ds.get_bend(proj=True)\n",
    "    bend_area = (bend.area*1e-6).round(2)[0]\n",
    "    centroid = [round(c, 3) for c in bend.centroid.to_crs(\"EPSG:4326\")[0].coords[:][0][::-1]]\n",
    "\n",
    "    # Get centerline info\n",
    "    cl = ds.get_centerline(proj=True)\n",
    "    bend_length = (cl.length / 1000).round(1)[0]\n",
    "\n",
    "    return (bend_id, centroid, bend_length, bend_area)"
   ]
  },
  {
   "cell_type": "code",
   "execution_count": 67,
   "metadata": {},
   "outputs": [
    {
     "data": {
      "text/plain": [
       "[('LBR_025', [30.617, -96.498], 3.1, 0.77),\n",
       " ('MIS_005', [31.349, -91.912], 16.4, 22.61),\n",
       " ('BEA_002', [57.287, -121.563], 1.7, 0.22)]"
      ]
     },
     "execution_count": 67,
     "metadata": {},
     "output_type": "execute_result"
    }
   ],
   "source": [
    "bends = [\"LBR_025\", \"MIS_005\", \"BEA_002\"]\n",
    "data = [table1_info(bend_id) for bend_id in bends]\n",
    "data"
   ]
  },
  {
   "cell_type": "markdown",
   "metadata": {},
   "source": [
    "## Bend Width\n",
    "- take 4 measurements around the bend based on the apparent channel width\n",
    "- Used the obvious cutbank and the boundary of the packets\n"
   ]
  },
  {
   "cell_type": "code",
   "execution_count": 69,
   "metadata": {},
   "outputs": [
    {
     "data": {
      "text/plain": [
       "123.75"
      ]
     },
     "execution_count": 69,
     "metadata": {},
     "output_type": "execute_result"
    }
   ],
   "source": [
    "# Brazos\n",
    "sum([147, 104, 115, 129])/4"
   ]
  },
  {
   "cell_type": "code",
   "execution_count": 71,
   "metadata": {},
   "outputs": [
    {
     "data": {
      "text/plain": [
       "712.9794999999999"
      ]
     },
     "execution_count": 71,
     "metadata": {},
     "output_type": "execute_result"
    }
   ],
   "source": [
    "# Mississippi\n",
    "sum([613.246, 711.211, 733.819, 793.642])/4\n",
    "\n"
   ]
  },
  {
   "cell_type": "code",
   "execution_count": 73,
   "metadata": {},
   "outputs": [
    {
     "data": {
      "text/plain": [
       "55.989000000000004"
      ]
     },
     "execution_count": 73,
     "metadata": {},
     "output_type": "execute_result"
    }
   ],
   "source": [
    "# Beatton\n",
    "sum([59.853,54.507,55.766,53.830])/4\n"
   ]
  },
  {
   "cell_type": "code",
   "execution_count": null,
   "metadata": {},
   "outputs": [],
   "source": []
  }
 ],
 "metadata": {
  "kernelspec": {
   "display_name": "scroll",
   "language": "python",
   "name": "python3"
  },
  "language_info": {
   "codemirror_mode": {
    "name": "ipython",
    "version": 3
   },
   "file_extension": ".py",
   "mimetype": "text/x-python",
   "name": "python",
   "nbconvert_exporter": "python",
   "pygments_lexer": "ipython3",
   "version": "3.8.12"
  },
  "orig_nbformat": 4
 },
 "nbformat": 4,
 "nbformat_minor": 2
}
