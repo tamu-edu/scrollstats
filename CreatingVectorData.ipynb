{
 "cells": [
  {
   "cell_type": "markdown",
   "metadata": {},
   "source": [
    "# Creating Vector Data"
   ]
  },
  {
   "cell_type": "markdown",
   "metadata": {},
   "source": [
    "ScrollStats uses the following vector datasets for every bend in order to calculate ridge metrics:\n",
    "- Channel Centerline (LineString)\n",
    "- Bend Boundary (Polygon)\n",
    "- Packet Boundaries (Polygon)\n",
    "- Ridges (LineString)\n",
    "- Migration Pathways (LineString)\n",
    "\n",
    "While all of these datasets are used, not all are strictly necesarry, not all are required at the beginning of the workflow, and some are generated from ScrollStats. \n",
    "\n",
    "This is summarized below:\n",
    "\n",
    "**Required for Raster Processing**:\n",
    "- Bend Boundary: the bend boundary is a required input from the user and is required for the raster processing. The bend boundary is the manual delineation of the topographically rasied platform that conatians the ridge and swale topography of a bend.\n",
    "\n",
    "**Required for Migration Pathway Creation**\n",
    "- Channel Centerline: the channel centerline generally follows the path of the water surface and should not intersect the bend boundary at all. The channel centerline should also extend past the channel-ward edges of the bend boundary. *See note at the end of this cell on point density for channel centerline and ridge lines.*\n",
    "\n",
    "- Ridges: ridges are manually created and should track the middle of each ridge area. While it is not necesarry, it's strongly reccommended that both the DEM and ridge area raster be used to infer ridge line locations. *See note at the end of this cell on point density for channel centerline and ridge lines.*\n",
    "\n",
    "**Used for ridge metric calculation**\n",
    "- Migration Pathways: migration pathways are created by ScrollStats, so the user does not need to worry about creating these as an input. Migration pathways are a series of transects that trace the supposed path of channel migration from the channel centerline. Migration pathways are used to sample both the DEM and ridge area raster to calculate ridge width, amplitude, and spacing for every point intersection of the migration pathways and ridge lines.\n",
    "\n",
    "- Packet Boundaries (optional): packet boundaries are the manual delineations of the depositional packets within a bend that contain groups of ridges with similar trajectorties. Packet boundaries fit perfectly within and cover entirely the bend boundary. Providing packet boundaries gives allows the user to aggregate ridge metrics to the packet scale in order to investigate changes in the hydrologic regime of the river.\n",
    "\n",
    "**Note on point density for channel centerline and ridgelines**\n",
    "A high vertex density and high degree of \"smoothness\" are necesarry for both the channel centerline and ridge lines when creating the migration pathways. It is reccommended that you focus on capturing the overall ridge form, not point density, when delineating. Then, the coarse polylines can be densified and smoothed with the inlcluded [line_smoother.py](scrollstats/delineation/line_smoother.py) script. \n"
   ]
  },
  {
   "cell_type": "markdown",
   "metadata": {},
   "source": []
  }
 ],
 "metadata": {
  "language_info": {
   "name": "python"
  },
  "orig_nbformat": 4
 },
 "nbformat": 4,
 "nbformat_minor": 2
}
