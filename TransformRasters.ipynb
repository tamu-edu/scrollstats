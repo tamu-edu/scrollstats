{
 "cells": [
  {
   "cell_type": "markdown",
   "metadata": {},
   "source": [
    "# Transform Rasters\n",
    "- This notebook demonstrates how to calculate the residual topography transformation to an extent DEM using ScrollStats.\n",
    "- Extent DEMs are the DEMS roughly clipped to the extent, not the exact boundary, of the ridge and swale topography of a bend. \n",
    "- The profile curvature transformation is calculated using QGIS. Instructions can be found at the end of this notebook\n",
    "- It is reccommended that extent DEMs be saved in the `data/input/dems` folder \n",
    "- The calulated residual topography transform of the dems will be saved to the `data/output/rt` directory\n",
    "- Once both transforms (residual topography and profile curvature) are completed, open [ClassifyRasters.ipynb](ClassifyRasters.ipynb) to complete the ridge area classification\n",
    "\n",
    "\n"
   ]
  },
  {
   "cell_type": "code",
   "execution_count": null,
   "metadata": {},
   "outputs": [],
   "source": [
    "from pathlib import Path\n",
    "\n",
    "import numpy as np\n",
    "import rasterio\n",
    "import matplotlib.pyplot as plt\n",
    "\n",
    "from scrollstats.delineation import CalcResidualTopography\n",
    "from parameters import RASTER_WINDOW_SIZE"
   ]
  },
  {
   "cell_type": "markdown",
   "metadata": {},
   "source": [
    "# Define Inputs\n"
   ]
  },
  {
   "cell_type": "code",
   "execution_count": null,
   "metadata": {},
   "outputs": [],
   "source": [
    "# Define processing parameters\n",
    "window_size = RASTER_WINDOW_SIZE\n",
    "\n",
    "# Define input/output file paths\n",
    "dem_path = Path(\"example_data/input/LBR_025_dem.tif\")\n",
    "output_dir = Path(\"example_data/output\")\n"
   ]
  },
  {
   "cell_type": "markdown",
   "metadata": {},
   "source": [
    "## Calculate Residual Topography\n",
    "- provide the dem path, the processing window size, and the output directory to the `CalcResidualTopography` class\n",
    "- Call the `.execute()` method to calculate the transformation and save the transformed raster to the output directory\n",
    "- This process may take several seconds to complete; especially for larger window sizes. \n",
    "    - ~16s for `LBR_025_dem.tif` with a 45px window size"
   ]
  },
  {
   "cell_type": "code",
   "execution_count": null,
   "metadata": {},
   "outputs": [],
   "source": [
    "# Instantiate the class\n",
    "rt = CalcResidualTopography(dem_path, window_size, output_dir)\n",
    "rt_path = rt.execute()\n",
    "print(f\"RT raster saved to {rt_path}\")"
   ]
  },
  {
   "cell_type": "markdown",
   "metadata": {},
   "source": [
    "## DEM vs Residual Topography example "
   ]
  },
  {
   "cell_type": "code",
   "execution_count": null,
   "metadata": {},
   "outputs": [],
   "source": [
    "dem = rasterio.open(dem_path).read(1)\n",
    "dem[dem<-1e6] = np.nan\n",
    "\n",
    "rt = rasterio.open(rt_path).read(1)\n",
    "\n",
    "fig, (ax1,ax2) = plt.subplots(1, 2, figsize=(20, 15))\n",
    "mapper = ax1.imshow(dem)\n",
    "# fig.colorbar(mapper, ax=ax1)\n",
    "ax1.set_axis_off()\n",
    "ax1.set_title(\"Original DEM\")\n",
    "\n",
    "\n",
    "mapper = ax2.imshow(rt)\n",
    "fig.colorbar(mapper, ax=ax2)\n",
    "ax2.set_axis_off()\n",
    "ax2.set_title(\"Residual Topography\");\n"
   ]
  },
  {
   "cell_type": "markdown",
   "metadata": {},
   "source": [
    "## Instructions for QGIS implementation of profile curvature\n",
    "\n",
    "Profile curvature is calculated using the `r.param.scale` tool in QGIS3\n",
    "\n",
    "The script `profileCurvature_QGIS.py` (located at [scrollstats/delineation/profileCurvature_QGIS.py](scrollstats/delineation/profileCurvature_QGIS.py)) uses the `r.param.scale` tool and should be used to calculate the profile curvature transform for the DEM. \n",
    "\n",
    "### Using `profileCurvature_QGIS.py`\n",
    "Execute `profileCurvature_QGIS.py` in the python console of QGIS. \n",
    "\n",
    "You can open the python console by clicking the python symbol in the tool bar\n",
    "![launch python console](img/launch_python_console.png)\n",
    "\n",
    "Then click the \"show editor\" button and open the script.\n",
    "![show editor](img/open_script_editor.png)\n",
    "\n",
    "Alter the input parameters and run the script\n",
    "- set the `dem_path`, `output_dir`, and `window_size` variables to the same values used in this notebook.\n",
    "![run the script](img/run_script.png)\n",
    "\n"
   ]
  },
  {
   "cell_type": "code",
   "execution_count": null,
   "metadata": {},
   "outputs": [],
   "source": []
  }
 ],
 "metadata": {
  "kernelspec": {
   "display_name": "scroll",
   "language": "python",
   "name": "python3"
  },
  "language_info": {
   "codemirror_mode": {
    "name": "ipython",
    "version": 3
   },
   "file_extension": ".py",
   "mimetype": "text/x-python",
   "name": "python",
   "nbconvert_exporter": "python",
   "pygments_lexer": "ipython3",
   "version": "3.8.12"
  },
  "orig_nbformat": 4
 },
 "nbformat": 4,
 "nbformat_minor": 2
}
