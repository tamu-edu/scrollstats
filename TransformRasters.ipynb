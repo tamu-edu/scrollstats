{
 "cells": [
  {
   "cell_type": "markdown",
   "metadata": {},
   "source": [
    "# Raster Transformations\n",
    "- this process is responsible for applying the profile curvature and residual topography transformations to the extent dems.\n",
    "- Because the profile curvature step still needs to be executed in QGIS, this step requires user input\n",
    "- Because there is no vector processing yet, and therefore no requisite matching of vector to raster data, this script can easily be run as a batch process on a folder of tifs\n",
    "\n"
   ]
  },
  {
   "cell_type": "code",
   "execution_count": null,
   "metadata": {},
   "outputs": [],
   "source": [
    "from pathlib import Path\n",
    "\n",
    "import numpy as np\n",
    "import rasterio\n",
    "import matplotlib.pyplot as plt\n",
    "\n",
    "from scrollstats.delineation import CalcResidualTopography, profile_curvature_instructions\n",
    "from globals import RASTER_DIRS, WINDOW_SIZE"
   ]
  },
  {
   "cell_type": "markdown",
   "metadata": {},
   "source": [
    "# Define Inputs\n"
   ]
  },
  {
   "cell_type": "markdown",
   "metadata": {},
   "source": [
    "## Create `dem_paths`\n",
    "- gather and sort all of the dems into a list\n",
    "- This process expects the `input/dem` folder to contain the DEMs that cover the extent of all bends of interest to the user\n",
    "                                                                                           \n"
   ]
  },
  {
   "cell_type": "code",
   "execution_count": null,
   "metadata": {},
   "outputs": [],
   "source": [
    "## regex-like pattern matching to filter dems; \n",
    "## leave as \"*\" to match all files in `dem_dir`\n",
    "regex_str = \"sb*.tif\"\n",
    "\n",
    "## function used to sort the dems within `dem_dir`\n",
    "## simply return `x` to use default filename sorting\n",
    "def sort_func(x):\n",
    "    return x.stem.split(\"_\")[2]\n",
    "\n",
    "\n",
    "dem_paths = sorted(RASTER_DIRS[\"dem\"].glob(regex_str), key = sort_func)\n",
    "dem_paths[:5]"
   ]
  },
  {
   "cell_type": "markdown",
   "metadata": {},
   "source": [
    "## Calculate Residual Topography\n",
    "- Loop over `dem_paths` and calculate the residual topography transform for each dem present\n",
    "- Save all residual topography rasters to `output/rt`"
   ]
  },
  {
   "cell_type": "code",
   "execution_count": null,
   "metadata": {},
   "outputs": [],
   "source": [
    "for dem_path in dem_paths[:3]:\n",
    "    rt = CalcResidualTopography(dem_path, WINDOW_SIZE, RASTER_DIRS[\"rt\"])\n",
    "    rt_path = rt.execute()\n",
    "    print(f\"Calculated rt transform for {dem_path.name}\")"
   ]
  },
  {
   "cell_type": "markdown",
   "metadata": {},
   "source": [
    "## DEM vs Residual Topography example "
   ]
  },
  {
   "cell_type": "code",
   "execution_count": null,
   "metadata": {},
   "outputs": [],
   "source": [
    "dem = rasterio.open(dem_path).read(1)\n",
    "dem[dem<-1e6] = np.nan\n",
    "\n",
    "rt = rasterio.open(rt_path).read(1)\n",
    "\n",
    "fig, (ax1,ax2) = plt.subplots(1, 2, figsize=(20, 15))\n",
    "mapper = ax1.imshow(dem)\n",
    "# fig.colorbar(mapper, ax=ax1)\n",
    "ax1.set_axis_off()\n",
    "ax1.set_title(\"Original DEM\")\n",
    "\n",
    "\n",
    "mapper = ax2.imshow(rt)\n",
    "fig.colorbar(mapper, ax=ax2)\n",
    "ax2.set_axis_off()\n",
    "ax2.set_title(\"Residual Topography\");\n"
   ]
  },
  {
   "cell_type": "markdown",
   "metadata": {},
   "source": [
    "## Instructions for QGIS implementation of profile curvature\n",
    "\n",
    "Profile curvature is calculated using the `r.param.scale` tool in QGIS3"
   ]
  },
  {
   "cell_type": "code",
   "execution_count": null,
   "metadata": {},
   "outputs": [],
   "source": [
    "profile_curvature_instructions()"
   ]
  },
  {
   "cell_type": "code",
   "execution_count": null,
   "metadata": {},
   "outputs": [],
   "source": []
  }
 ],
 "metadata": {
  "kernelspec": {
   "display_name": "scroll",
   "language": "python",
   "name": "python3"
  },
  "language_info": {
   "codemirror_mode": {
    "name": "ipython",
    "version": 3
   },
   "file_extension": ".py",
   "mimetype": "text/x-python",
   "name": "python",
   "nbconvert_exporter": "python",
   "pygments_lexer": "ipython3",
   "version": "3.8.12"
  },
  "orig_nbformat": 4
 },
 "nbformat": 4,
 "nbformat_minor": 2
}
