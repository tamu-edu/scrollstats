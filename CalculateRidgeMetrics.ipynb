{
 "cells": [
  {
   "cell_type": "markdown",
   "metadata": {},
   "source": [
    "# Calculate Ridge Metrics\n",
    "\n",
    "This notebook contains the code required to calculate ridge metrics from the previously created datasets:\n",
    "- Ridges\n",
    "- Migration Pathways\n",
    "- Packets\n",
    "- Ridge Area Raster\n",
    "- DEM\n",
    "\n",
    "From these datasets, we will calculate ridge width, amplitude, and migration distance at every ridge-transect intersection and aggregate/summarize these measurements at the intersection, ridge, transect, packet, and bend scales. \n"
   ]
  },
  {
   "cell_type": "code",
   "execution_count": null,
   "metadata": {},
   "outputs": [],
   "source": [
    "from pathlib import Path\n",
    "\n",
    "import geopandas as gpd\n",
    "import rasterio\n",
    "import matplotlib.pyplot as plt\n",
    "\n",
    "from scrollstats import calculate_ridge_metrics, RasterClipper"
   ]
  },
  {
   "cell_type": "markdown",
   "metadata": {},
   "source": [
    "## Set input/output paths"
   ]
  },
  {
   "cell_type": "code",
   "execution_count": null,
   "metadata": {},
   "outputs": [],
   "source": [
    "# Vector Datasets\n",
    "ridge_path = Path(\"example_data/output/LBR_025_ridges_manual_smoothed.geojson\")\n",
    "transect_path = Path(\"example_data/output/LBR_025_transects.geojson\")\n",
    "packet_path = Path(\"example_data/input/LBR_025_packets.geojson\")\n",
    "centerline_path = Path(\"example_data/input/LBR_025_cl.geojson\") # only needed for plotting\n",
    "\n",
    "# Raster Datasets\n",
    "bin_clip_path = Path(\"example_data/output/LBR_025_agr_clip_denoise500px80p.tif\")\n",
    "dem_clip_path = Path(\"example_data/input/LBR_025_dem_clip.tif\")\n",
    "\n",
    "# Output\n",
    "output_dir = Path(\"example_data/output\")\n"
   ]
  },
  {
   "cell_type": "markdown",
   "metadata": {},
   "source": [
    "## Read in datasets from input paths"
   ]
  },
  {
   "cell_type": "code",
   "execution_count": null,
   "metadata": {},
   "outputs": [],
   "source": [
    "# Vector Data\n",
    "ridges = gpd.read_file(ridge_path)\n",
    "transects = gpd.read_file(transect_path)\n",
    "packets = gpd.read_file(packet_path)\n",
    "cl = gpd.read_file(centerline_path)\n",
    "\n",
    "# Raster Data\n",
    "bin_raster = rasterio.open(bin_clip_path)\n",
    "dem = rasterio.open(dem_clip_path)"
   ]
  },
  {
   "cell_type": "markdown",
   "metadata": {},
   "source": [
    "## Calculate the ridge metrics\n",
    "\n",
    "The `calculate_ridge_metrics` function takes the transects, ridges, clipped ridge area (binary) and DEM rasters as input and returns two GeoDataFrames\n",
    "- `rich transects`\n",
    "- `itx points`\n",
    "\n",
    "The `rich_transects` retain the same geometry as the input transects but have the following additional fields:\n",
    "- `r_000` ... `r_###`: the distance between the channel centerline and that ridge along the specified transect\n",
    "- `dem_signal`: dem values sampled along the transect with 1m sampling \n",
    "- `bin_signal`: binary raster values sampled along the transect with 1m sampling\n",
    "- `clean_bin_signal`:\n",
    "- `ridge_count_raster`: the ridge count along the transect calcualted from the number of unique ridges in `bin_signal`\n",
    "- `fft_spacing`: the fft-derived dominant wavelength from `bin_signal` - corresponds to a representative spacing between ridges along the transect\n",
    "\n",
    "The `itx` points are the collection of point intersections between the ridges and transects. `itx` contains the following fields:\n",
    "- `start_distances`\n",
    "- `transect_position`: vertex position of the intersection point along the transect\n",
    "- `metric_confidence`: a simple metric derived from `bin_signal` describing the confidence in other ridge metrics.\n",
    "- `relative_vertex_distances`: the relative along-transect distance of the substring that corresponds to the intersection. A relative vertex position of 0.5 is at the exact midpoint of the transect.\n",
    "- `vertex_indices`: the indicies of the `dem_signal` or `binary_signal` of the transect that correspond to the location of the itx substring\n",
    "- `dem_signal`: the section of the transect's `dem_signal` that corresponds to the itx substring\n",
    "- `dem_signal_selection`: ukn\n",
    "- `bin_signal`: the section of the transect's `bin_signal` that corresponds to the itx substring\n",
    "- `bool_mask`: ukn\n",
    "- `pre_mig_dist`: the migration distance from the previous ridge \n",
    "- `post_mig_dist`: the migration distance to the next ridge\n",
    "- `pre_mig_time`: the difference in `deposit_year` between the intersected and previous ridge\n",
    "- `post_mig_time`: the difference in `deposit_year` between the intersected and next ridge\n",
    "- `pre_mig_rate`: `pre_mig_dist` / `pre_mig_time`\n",
    "- `post_mig_rate`: `post_mig_dist` / `post_mig_time`\n",
    "- `ridge_width`: the width of the ridge derived from `bin_signal` measured in px\n",
    "- `ridge_amp`: the amplitude of the ridge derived from `dem_signal` measured in units of the DEM\n",
    "- `deposit_year`: `deposit_year` of the corresponding ridge\n",
    "- `substring_geometry`: the `LineString` of the substring corresponding to the intersection\n",
    "- `geometry`: the `Point` geometry of the intersection\n",
    "- `swale_dq_adjustment`: ukn\n",
    "\n"
   ]
  },
  {
   "cell_type": "code",
   "execution_count": null,
   "metadata": {},
   "outputs": [],
   "source": [
    "rich_transects, itx = calculate_ridge_metrics(transects, bin_raster, dem, ridges)\n",
    "itx = itx.loc[\"LBR_025\"]"
   ]
  },
  {
   "cell_type": "code",
   "execution_count": null,
   "metadata": {},
   "outputs": [],
   "source": [
    "# Add packets\n",
    "itx_w_packets = itx.sjoin(packets.drop(\"bend_id\", axis=1))\n",
    "itx_w_packets = itx_w_packets.reset_index().set_index([\"transect_id\", \"ridge_id\", \"packet_id\"])\n",
    "ridge_metrics_w_packets = itx_w_packets[[\"ridge_amp\", \"ridge_width\", \"pre_mig_dist\"]]\n",
    "ridge_metrics_w_packets.columns = ridge_metrics_w_packets.columns.rename(\"metrics\")"
   ]
  },
  {
   "cell_type": "code",
   "execution_count": null,
   "metadata": {},
   "outputs": [],
   "source": [
    "itx_w_packets.head()"
   ]
  },
  {
   "cell_type": "code",
   "execution_count": null,
   "metadata": {},
   "outputs": [],
   "source": [
    "# Plot itx\n",
    "fig, ax = plt.subplots(1,1, figsize=(10,6))\n",
    "ridges.plot(ax=ax, color=\"k\", ls=\"--\", lw=0.5, zorder=0)\n",
    "transects.plot(ax=ax, color=\"k\", lw=1, zorder=1)\n",
    "cl.plot(ax=ax, color=\"tab:blue\", lw=5, zorder=2)\n",
    "\n",
    "itx_w_packets.plot(column=\"ridge_amp\", ax=ax, zorder=2, legend=True, \n",
    "                   legend_kwds={\"label\": \"Ridge Amplitude [m]\"})\n",
    "\n",
    "ax.set_title(\"Ridge amplitude at each intersection\")\n"
   ]
  }
 ],
 "metadata": {
  "kernelspec": {
   "display_name": "scroll5",
   "language": "python",
   "name": "python3"
  },
  "language_info": {
   "codemirror_mode": {
    "name": "ipython",
    "version": 3
   },
   "file_extension": ".py",
   "mimetype": "text/x-python",
   "name": "python",
   "nbconvert_exporter": "python",
   "pygments_lexer": "ipython3",
   "version": "3.10.12"
  },
  "orig_nbformat": 4
 },
 "nbformat": 4,
 "nbformat_minor": 2
}
