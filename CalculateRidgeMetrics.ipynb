{
 "cells": [
  {
   "cell_type": "markdown",
   "metadata": {},
   "source": [
    "# Calculate Ridge Metrics\n",
    "\n",
    "This notebook contains the code required to calculate ridge metrics from the previously created datasets:\n",
    "- Ridges\n",
    "- Migration Pathways\n",
    "- Packets\n",
    "- Ridge Area Raster\n",
    "- DEM\n"
   ]
  },
  {
   "cell_type": "markdown",
   "metadata": {},
   "source": []
  }
 ],
 "metadata": {
  "language_info": {
   "name": "python"
  },
  "orig_nbformat": 4
 },
 "nbformat": 4,
 "nbformat_minor": 2
}
