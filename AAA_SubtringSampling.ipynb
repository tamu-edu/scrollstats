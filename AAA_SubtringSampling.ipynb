{
 "cells": [
  {
   "cell_type": "code",
   "execution_count": null,
   "metadata": {},
   "outputs": [],
   "source": [
    "import warnings\n",
    "\n",
    "import numpy as np\n",
    "import rasterio\n",
    "from shapely.geometry import *\n",
    "from shapely.errors import ShapelyDeprecationWarning\n",
    "\n",
    "import matplotlib.pyplot as plt\n",
    "plt.rcParams[\"figure.facecolor\"] = \"white\"\n",
    "plt.rcParams[\"axes.facecolor\"] = \"white\"\n",
    "plt.rcParams[\"font.family\"] = \"Arial\"\n",
    "\n",
    "from scrollstats import BendDataset, RASTER_PATHS, calculate_ridge_metrics"
   ]
  },
  {
   "cell_type": "code",
   "execution_count": null,
   "metadata": {},
   "outputs": [],
   "source": [
    "bend_id = \"LBR_025\"\n",
    "\n",
    "# Get rasters\n",
    "dem = rasterio.open(RASTER_PATHS[bend_id][\"dem\"])\n",
    "bin_raster = rasterio.open(RASTER_PATHS[bend_id][\"bin\"])\n",
    "\n",
    "# Get vectors\n",
    "bend_ds = BendDataset(bend_id)\n",
    "ridges = bend_ds.get_ridges(True)\n",
    "transects = bend_ds.get_transects(True)"
   ]
  },
  {
   "cell_type": "code",
   "execution_count": null,
   "metadata": {},
   "outputs": [],
   "source": [
    "with warnings.catch_warnings():\n",
    "    warnings.simplefilter(\"ignore\", ShapelyDeprecationWarning)\n",
    "    rich_transects, itx = calculate_ridge_metrics(transects, bin_raster, dem, ridges)\n",
    "\n",
    "itx = itx.loc[bend_id]\n",
    "rich_transects = rich_transects.set_index(\"transect_id\")\n",
    "chosen_transect = itx.loc[\"t_016\"].sort_values(\"transect_position\")"
   ]
  },
  {
   "cell_type": "code",
   "execution_count": null,
   "metadata": {},
   "outputs": [],
   "source": [
    "for i, row in rich_transects.iterrows():\n",
    "\n",
    "    fig, ax = plt.subplots(1,1, figsize=(10,3))\n",
    "\n",
    "    dem_sig = row[\"dem_signal\"]\n",
    "    bin_sig = row[\"bin_signal\"]\n",
    "    \n",
    "    ax.plot(dem_sig, label=\"DEM\")\n",
    "    ax.plot((bin_sig * (np.nanmax(dem_sig)- np.nanmin(dem_sig)))+ np.nanmin(dem_sig), label=\"Binary Classification\")\n",
    "\n",
    "    ax.set_title(i)"
   ]
  },
  {
   "cell_type": "code",
   "execution_count": null,
   "metadata": {},
   "outputs": [],
   "source": [
    "rich_transects.columns"
   ]
  },
  {
   "cell_type": "code",
   "execution_count": null,
   "metadata": {},
   "outputs": [],
   "source": []
  },
  {
   "cell_type": "code",
   "execution_count": null,
   "metadata": {},
   "outputs": [],
   "source": [
    "fig, (ax1, ax2) = plt.subplots(2, 1, figsize=(6.5, 3), sharex=True)\n",
    "\n",
    "dem_sig = rich_transects.loc[\"t_016\", \"dem_signal\"]\n",
    "bin_sig = rich_transects.loc[\"t_016\", \"bin_signal\"]\n",
    "\n",
    "bin_sig_adj = (bin_sig * (np.nanmax(dem_sig)- np.nanmin(dem_sig))) + np.nanmin(dem_sig)\n",
    "\n",
    "# Plot DEM and Binary Signal\n",
    "ax2.plot(dem_sig, color=\"k\", lw=1, label=\"DEM\")\n",
    "ax2.plot(bin_sig_adj, color=\"grey\", ls=\"--\", lw=1, alpha=0.5, label=\"Binary Signal\")\n",
    "\n",
    "# Plot transect\n",
    "\n",
    "all_verts = []\n",
    "for i, row in chosen_transect.reset_index().iterrows():\n",
    "\n",
    "    # Determine y height for each substring\n",
    "    max_y = 78\n",
    "    y = max_y - 5*(i/len(chosen_transect))\n",
    "\n",
    "    r0, r1, r2 = row[\"vertex_indices\"]\n",
    "    ax1.plot([r0, r1, r2], np.ones(3)*y, lw=1, marker=\".\", markersize=3, markerfacecolor=\"k\", markeredgecolor=\"k\")\n",
    "    all_verts.append(r0)\n",
    "    all_verts.append(r1)\n",
    "    all_verts.append(r2)\n",
    "\n",
    "    # Annotate first substring\n",
    "    if i==0:\n",
    "        ax1.annotate(\"r0\", xy=(r0, y+0.2), horizontalalignment=\"center\")\n",
    "        ax1.annotate(\"r1\", xy=(r1, y+0.2), horizontalalignment=\"center\")\n",
    "        ax1.annotate(\"r2\", xy=(r2, y+0.2), horizontalalignment=\"center\")\n",
    "\n",
    "# Plot complete transect\n",
    "xs = sorted(set(all_verts))\n",
    "ys =np.ones(len(xs))*(np.nanmax(dem_sig)+1)\n",
    "ax2.plot(xs, ys, color=\"r\",lw=1.5, marker=\".\", markerfacecolor=\"k\", markeredgecolor=\"k\", label=\"Migration Pathway\")\n",
    "\n",
    "\n",
    "\n",
    "# Remove top and right frames from the bottom plot\n",
    "ax2.spines['top'].set_visible(False)\n",
    "ax2.spines['right'].set_visible(False)\n",
    "\n",
    "ax2.set_yticks([65, 70])\n",
    "ax2.set_ylabel(\"Elevation [m]\")\n",
    "ax2.set_xlabel(\"Distance along Migration Pathway [m]\")\n",
    "\n",
    "\n",
    "ax1.set_axis_off()\n",
    "\n",
    "plt.tight_layout()\n",
    "plt.savefig(\"SubStringSampling.png\", dpi=300)"
   ]
  },
  {
   "cell_type": "code",
   "execution_count": null,
   "metadata": {},
   "outputs": [],
   "source": [
    "rich_transects.loc[\"t_016\",\"geometry\"].apply"
   ]
  },
  {
   "cell_type": "code",
   "execution_count": null,
   "metadata": {},
   "outputs": [],
   "source": [
    "for i, row in chosen_transect.reset_index().iterrows():\n",
    "    \n",
    "    max_y = 75\n",
    "\n",
    "    y = max_y - 5*(i/len(chosen_transect))\n",
    "    print(y)"
   ]
  },
  {
   "cell_type": "code",
   "execution_count": null,
   "metadata": {},
   "outputs": [],
   "source": [
    "75 - 5*(1-len(chosen_transect))"
   ]
  },
  {
   "cell_type": "code",
   "execution_count": null,
   "metadata": {},
   "outputs": [],
   "source": [
    "\n",
    "for i, row in chosen_transect.iterrows():\n",
    "\n",
    "    geom = row[\"substring_geometry\"]\n",
    "    dem_sig = row[\"dem_signal_selection\"]\n",
    "    # bin_sig = row[\"bin_signal\"]\n",
    "    bin_sig = row[\"bool_mask\"]\n",
    "    pos = row[\"transect_position\"]\n",
    "    dq_adj = row[\"swale_dq_adjustment\"]\n",
    "\n",
    "    fig, ax = plt.subplots(1,1, figsize=(6, 3))\n",
    "    ax.plot(dem_sig, label=\"DEM\")\n",
    "    ax.plot((bin_sig * (np.nanmax(dem_sig)- np.nanmin(dem_sig)))+ np.nanmin(dem_sig), label=\"Binary Classification\")\n",
    "\n",
    "    p1, p2, p3 = [Point(p) for p in geom.coords]\n",
    "    d1 = p1.distance(p2) - dq_adj\n",
    "    d2 = p2.distance(p3)\n",
    "\n",
    "    x = [0, d1, d1+d2]\n",
    "    y = np.ones(3)*np.nanmax(dem_sig)+1\n",
    "    ax.plot(x, \n",
    "            y,\n",
    "            color=\"k\",\n",
    "            marker=\".\",\n",
    "            markersize=10,\n",
    "            label = \"Transect + Vertices\")\n",
    "    \n",
    "    ax.annotate(pos, (x[1]+2, y[1]-0.1), verticalalignment=\"top\", horizontalalignment=\"center\", )\n",
    "    ax.legend()\n",
    "    ax.set_title(\"DEM and binary profile at the channel\")\n",
    "    ax.set_ylabel(\"Elevation [m]\")\n",
    "    ax.set_xlabel(\"Distance from channel [m]\")\n"
   ]
  },
  {
   "attachments": {},
   "cell_type": "markdown",
   "metadata": {},
   "source": [
    "## Create Sample Signals for the Confidence table"
   ]
  },
  {
   "cell_type": "code",
   "execution_count": null,
   "metadata": {},
   "outputs": [],
   "source": [
    "fig, axs = plt.subplots(4, 1, figsize=(1.5, 4))\n",
    "\n",
    "# All figures are 6 units long by 3 units high\n",
    "for ax in axs:\n",
    "    ax.set_xlim(0.5, 6.5)\n",
    "    ax.set_ylim(-0.5, 1.5)\n",
    "    ax.set_xticks([])\n",
    "    ax.set_yticks([0, 1])\n",
    "    ax.set_aspect(\"equal\")\n",
    "\n",
    "\n",
    "# CL 1\n",
    "x1 = [1.5, 3.5]\n",
    "y1 = [1, 1]\n",
    "\n",
    "x2 = [3.5, 5.5]\n",
    "y2 = [0,0]\n",
    "axs[0].plot(x1, y1, color=\"grey\", lw=4, alpha=0.5)\n",
    "axs[0].plot(x2, y2, color=\"grey\", lw=4, alpha=0.5)\n",
    "axs[0].plot(x1, y1, color=\"k\")\n",
    "axs[0].plot(x2, y2, color=\"k\")\n",
    "\n",
    "axs[0].text(3.5, 0.5, \"or\", horizontalalignment=\"center\", verticalalignment=\"center\")\n",
    "\n",
    "# CL 2\n",
    "x = [2.5, 3.5, 3.5, 4.5]\n",
    "y = [1, 1, 0, 0]\n",
    "\n",
    "axs[1].plot(x[0:2], y[0:2], color=\"r\", lw=4, alpha=0.5)\n",
    "axs[1].plot(x[-2:], y[-2:], color=\"r\", lw=4, alpha=0.5)\n",
    "axs[1].plot(x, y, color=\"k\")\n",
    "\n",
    "# CL 3\n",
    "x = [2, 3, 3, 4, 4, 5]\n",
    "y = [0, 0, 1, 1, 0, 0]\n",
    "axs[2].plot(x[0:2], y[0:2], color=\"r\", lw=4, alpha=0.5)\n",
    "axs[2].plot(x[-2:], y[-2:], color=\"r\", lw=4, alpha=0.5)\n",
    "axs[2].plot(x[2:4], y[2:4], color=\"b\", lw=4, alpha=0.5)\n",
    "axs[2].plot(x, y, color=\"k\")\n",
    "\n",
    "# CL 4\n",
    "x = [1, 2, 2, 3, 3, 4, 4, 5, 5, 6]\n",
    "y = [1, 1, 0, 0, 1, 1, 0, 0, 1, 1]\n",
    "axs[3].plot(x[2:4], y[2:4], color=\"b\", lw=4, alpha=0.5)\n",
    "axs[3].plot(x[-4:-2], y[-4:-2], color=\"b\", lw=4, alpha=0.5)\n",
    "axs[3].plot(x[4:6], y[4:6], color=\"b\", lw=4, alpha=0.5)\n",
    "axs[3].plot(x, y, color=\"k\")\n",
    "\n",
    "plt.savefig(\"test.png\", dpi=300)"
   ]
  },
  {
   "cell_type": "code",
   "execution_count": null,
   "metadata": {},
   "outputs": [],
   "source": []
  }
 ],
 "metadata": {
  "kernelspec": {
   "display_name": "scroll",
   "language": "python",
   "name": "python3"
  },
  "language_info": {
   "codemirror_mode": {
    "name": "ipython",
    "version": 3
   },
   "file_extension": ".py",
   "mimetype": "text/x-python",
   "name": "python",
   "nbconvert_exporter": "python",
   "pygments_lexer": "ipython3",
   "version": "3.8.12"
  },
  "orig_nbformat": 4
 },
 "nbformat": 4,
 "nbformat_minor": 2
}
